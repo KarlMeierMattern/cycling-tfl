{
 "cells": [
  {
   "cell_type": "markdown",
   "metadata": {},
   "source": [
    "# **Cycling analysis**"
   ]
  },
  {
   "cell_type": "markdown",
   "metadata": {},
   "source": [
    "Some considerations:\n",
    "- Number of trips taken\n",
    "- Inflows vs outflows (no. trips to vs from = net flow)\n",
    "- Top bike stations by number of trips taken (however, consider when the bike station was installed - new stations will have fewer routes)\n",
    "- Top up and coming stations (i.e. they have the highest rate of increase in usage - total_trips/number_days_active)\n",
    "- Longest routes\n",
    "- Weekday vs weekend traffic\n",
    "- Round trip vs point to point\n",
    "- ..."
   ]
  },
  {
   "cell_type": "code",
   "execution_count": 26,
   "metadata": {},
   "outputs": [
    {
     "name": "stdout",
     "output_type": "stream",
     "text": [
      "hello\n"
     ]
    }
   ],
   "source": [
    "print(\"hello\")"
   ]
  },
  {
   "cell_type": "code",
   "execution_count": null,
   "metadata": {},
   "outputs": [],
   "source": []
  },
  {
   "cell_type": "markdown",
   "metadata": {},
   "source": [
    "## **Imports**"
   ]
  },
  {
   "cell_type": "code",
   "execution_count": 8,
   "metadata": {},
   "outputs": [],
   "source": [
    "import requests\n",
    "from bs4 import BeautifulSoup\n",
    "import os\n",
    "import re\n",
    "from urllib.parse import urljoin\n",
    "import selenium\n",
    "import pandas as pd\n",
    "import numpy as np\n",
    "import matplotlib.pyplot as plt\n",
    "%matplotlib inline"
   ]
  },
  {
   "cell_type": "markdown",
   "metadata": {},
   "source": [
    "---"
   ]
  },
  {
   "cell_type": "markdown",
   "metadata": {},
   "source": [
    "## **Import csv files**"
   ]
  },
  {
   "cell_type": "markdown",
   "metadata": {},
   "source": [
    "---"
   ]
  },
  {
   "cell_type": "markdown",
   "metadata": {},
   "source": [
    "## **Check links available to scrape**"
   ]
  },
  {
   "cell_type": "code",
   "execution_count": 24,
   "metadata": {},
   "outputs": [
    {
     "data": {
      "text/plain": [
       "['246JourneyDataExtract23Dec2020-29Dec2020.csv',\n",
       " '246JourneyDataExtract30Dec2020-05Jan2021.csv',\n",
       " '247JourneyDataExtract06Jan2021-12Jan2021.csv',\n",
       " '248JourneyDataExtract13Jan2021-19Jan2021.csv',\n",
       " '249JourneyDataExtract20Jan2021-26Jan2021.csv',\n",
       " '250JourneyDataExtract27Jan2021-02Feb2021.csv',\n",
       " '251JourneyDataExtract03Feb2021-09Feb2021.csv',\n",
       " '252JourneyDataExtract10Feb2021-16Feb2021.csv',\n",
       " '253JourneyDataExtract17Feb2021-23Feb2021.csv',\n",
       " '254JourneyDataExtract24Feb2021-02Mar2021.csv',\n",
       " '255JourneyDataExtract03Mar2021-09Mar2021.csv',\n",
       " '256JourneyDataExtract10Mar2021-16Mar2021.csv',\n",
       " '257JourneyDataExtract17Mar2021-23Mar2021.csv',\n",
       " '258JourneyDataExtract24Mar2021-30Mar2021.csv',\n",
       " '259JourneyDataExtract31Mar2021-06Apr2021.csv',\n",
       " '260JourneyDataExtract07Apr2021-13Apr2021.csv',\n",
       " '261JourneyDataExtract14Apr2021-20Apr2021.csv',\n",
       " '262JourneyDataExtract21Apr2021-27Apr2021.csv',\n",
       " '263JourneyDataExtract28Apr2021-04May2021.csv',\n",
       " '264JourneyDataExtract05May2021-11May2021.csv',\n",
       " '265JourneyDataExtract12May2021-18May2021.csv',\n",
       " '266JourneyDataExtract19May2021-25May2021.csv',\n",
       " '267JourneyDataExtract26May2021-01Jun2021.csv',\n",
       " '268JourneyDataExtract02Jun2021-08Jun2021.csv',\n",
       " '269JourneyDataExtract09Jun2021-15Jun2021.csv',\n",
       " '270JourneyDataExtract16Jun2021-22Jun2021.csv',\n",
       " '271JourneyDataExtract23Jun2021-29Jun2021.csv',\n",
       " '272JourneyDataExtract30Jun2021-06Jul2021.csv',\n",
       " '273JourneyDataExtract07Jul2021-13Jul2021.csv',\n",
       " '274JourneyDataExtract14Jul2021-20Jul2021.csv',\n",
       " '275JourneyDataExtract21Jul2021-27Jul2021.csv',\n",
       " '276JourneyDataExtract28Jul2021-03Aug2021.csv',\n",
       " '277JourneyDataExtract04Aug2021-10Aug2021.csv',\n",
       " '278JourneyDataExtract11Aug2021-17Aug2021.csv',\n",
       " '279JourneyDataExtract18Aug2021-24Aug2021.csv',\n",
       " '280JourneyDataExtract25Aug2021-31Aug2021.csv',\n",
       " '281JourneyDataExtract01Sep2021-07Sep2021.csv',\n",
       " '282JourneyDataExtract08Sep2021-14Sep2021.csv',\n",
       " '283JourneyDataExtract15Sep2021-21Sep2021.csv',\n",
       " '284JourneyDataExtract22Sep2021-28Sep2021.csv',\n",
       " '285JourneyDataExtract29Sep2021-05Oct2021.csv',\n",
       " '286JourneyDataExtract06Oct2021-12Oct2021.csv',\n",
       " '287JourneyDataExtract13Oct2021-19Oct2021.csv',\n",
       " '288JourneyDataExtract20Oct2021-26Oct2021.csv',\n",
       " '289JourneyDataExtract27Oct2021-02Nov2021.csv',\n",
       " '290JourneyDataExtract03Nov2021-09Nov2021.csv',\n",
       " '291JourneyDataExtract10Nov2021-16Nov2021.csv',\n",
       " '292JourneyDataExtract17Nov2021-23Nov2021.csv',\n",
       " '293JourneyDataExtract24Nov2021-30Nov2021.csv',\n",
       " '294JourneyDataExtract01Dec2021-07Dec2021.csv',\n",
       " '295JourneyDataExtract08Dec2021-14Dec2021.csv',\n",
       " '296JourneyDataExtract15Dec2021-21Dec2021.csv',\n",
       " '297JourneyDataExtract22Dec2021-28Dec2021.csv',\n",
       " '298JourneyDataExtract29Dec2021-04Jan2022.csv',\n",
       " '299JourneyDataExtract05Jan2022-11Jan2022.csv',\n",
       " '300JourneyDataExtract12Jan2022-18Jan2022.csv',\n",
       " '301JourneyDataExtract19Jan2022-25Jan2022.csv',\n",
       " '302JourneyDataExtract26Jan2022-01Feb2022.csv',\n",
       " '303JourneyDataExtract02Feb2022-08Feb2022.csv',\n",
       " '304JourneyDataExtract09Feb2022-15Feb2022.csv',\n",
       " '305JourneyDataExtract16Feb2022-22Feb2022.csv',\n",
       " '306JourneyDataExtract23Feb2022-01Mar2022.csv',\n",
       " '307JourneyDataExtract02Mar2022-08Mar2022.csv',\n",
       " '308JourneyDataExtract09Mar2022-15Mar2022.csv',\n",
       " '309JourneyDataExtract16Mar2022-22Mar2022.csv',\n",
       " '310JourneyDataExtract23Mar2022-29Mar2022.csv',\n",
       " '311JourneyDataExtract30Mar2022-05Apr2022.csv',\n",
       " '312JourneyDataExtract06Apr2022-12Apr2022.csv',\n",
       " '313JourneyDataExtract13Apr2022-19Apr2022.csv',\n",
       " '314JourneyDataExtract20Apr2022-26Apr2022.csv',\n",
       " '315JourneyDataExtract27Apr2022-03May2022.csv',\n",
       " '316JourneyDataExtract04May2022-10May2022.csv',\n",
       " '317JourneyDataExtract11May2022-17May2022.csv',\n",
       " '318JourneyDataExtract18May2022-24May2022.csv',\n",
       " '319JourneyDataExtract25May2022-31May2022.csv',\n",
       " '320JourneyDataExtract01Jun2022-07Jun2022.csv',\n",
       " '321JourneyDataExtract08Jun2022-14Jun2022.csv',\n",
       " '322JourneyDataExtract15Jun2022-21Jun2022.csv',\n",
       " '323JourneyDataExtract22Jun2022-28Jun2022.csv',\n",
       " '324JourneyDataExtract29Jun2022-05Jul2022.csv',\n",
       " '325JourneyDataExtract06Jul2022-12Jul2022.csv',\n",
       " '326JourneyDataExtract13Jul2022-19Jul2022.csv',\n",
       " '327JourneyDataExtract20Jul2022-26Jul2022.csv',\n",
       " '328JourneyDataExtract27Jul2022-02Aug2022.csv',\n",
       " '329JourneyDataExtract03Aug2022-09Aug2022.csv',\n",
       " '330JourneyDataExtract10Aug2022-16Aug2022.csv',\n",
       " '331JourneyDataExtract17Aug2022-23Aug2022.csv',\n",
       " '332JourneyDataExtract24Aug2022-30Aug2022.csv',\n",
       " '333JourneyDataExtract31Aug2022-06Sep2022.csv',\n",
       " '334JourneyDataExtract07Sep2022-11Sep2022.csv',\n",
       " '335JourneyDataExtract12Sep2022-18Sep2022.csv',\n",
       " '336JourneyDataExtract19Sep2022-25Sep2022.csv',\n",
       " '337JourneyDataExtract26Sep2022-02Oct2022.csv',\n",
       " '338JourneyDataExtract03Oct2022-09Oct2022.csv',\n",
       " '339JourneyDataExtract10Oct2022-16Oct2022.csv',\n",
       " '340JourneyDataExtract17Oct2022-23Oct2022.csv',\n",
       " '341JourneyDataExtract24Oct2022-30Oct2022.csv',\n",
       " '342JourneyDataExtract31Oct2022-06Nov2022.csv',\n",
       " '343JourneyDataExtract07Nov2022-13Nov2022.csv',\n",
       " '344JourneyDataExtract14Nov2022-20Nov2022.csv',\n",
       " '345JourneyDataExtract21Nov2022-27Nov2022.csv',\n",
       " '346JourneyDataExtract28Nov2022-04Dec2022.csv',\n",
       " '347JourneyDataExtract05Dec2022-11Dec2022.csv',\n",
       " '348JourneyDataExtract12Dec2022-18Dec2022.csv',\n",
       " '349JourneyDataExtract19Dec2022-25Dec2022.csv',\n",
       " '350JourneyDataExtract26Dec2022-01Jan2023.csv',\n",
       " '351JourneyDataExtract02Jan2023-08Jan2023.csv',\n",
       " '352JourneyDataExtract09Jan2023-15Jan2023.csv',\n",
       " '353JourneyDataExtract16Jan2023-22Jan2023.csv',\n",
       " '354JourneyDataExtract23Jan2023-29Jan2023.csv',\n",
       " '355JourneyDataExtract30Jan2023-05Feb2023.csv',\n",
       " '356JourneyDataExtract06Feb2023-12Feb2023.csv',\n",
       " '357JourneyDataExtract13Feb2023-19Feb2023.csv',\n",
       " '358JourneyDataExtract20Feb2023-26Feb2023.csv',\n",
       " '359JourneyDataExtract27Feb2023-05Mar2023.csv',\n",
       " '360JourneyDataExtract06Mar2023-12Mar2023.csv',\n",
       " '361JourneyDataExtract13Mar2023-19Mar2023.csv',\n",
       " '362JourneyDataExtract20Mar2023-26Mar2023.csv',\n",
       " '363JourneyDataExtract27Mar2023-02Apr2023.csv',\n",
       " '364JourneyDataExtract03Apr2023-09Apr2023.csv',\n",
       " '365JourneyDataExtract10Apr2023-16Apr2023.csv',\n",
       " '366JourneyDataExtract17Apr2023-23Apr2023.csv',\n",
       " '367JourneyDataExtract24Apr2023-30Apr2023.csv',\n",
       " '368JourneyDataExtract01May2023-07May2023.csv',\n",
       " '369JourneyDataExtract08May2023-14May2023.csv',\n",
       " '370JourneyDataExtract15May2023-21May2023.csv',\n",
       " '371JourneyDataExtract22May2023-28May2023.csv',\n",
       " '372JourneyDataExtract29May2023-04Jun2023.csv',\n",
       " '373JourneyDataExtract05Jun2023-11Jun2023.csv',\n",
       " '374JourneyDataExtract12Jun2023-18Jun2023.csv',\n",
       " '375JourneyDataExtract19Jun2023-30Jun2023.csv',\n",
       " '376JourneyDataExtract01Jul2023-14Jul2023.csv',\n",
       " '377JourneyDataExtract15Jul2023-31Jul2023.csv',\n",
       " '378JourneyDataExtract01Aug2023-14Aug2023.csv',\n",
       " '378JourneyDataExtract15Aug2023-31Aug2023.csv',\n",
       " '379JourneyDataExtract01Sep2023-14Sep2023.csv',\n",
       " '380JourneyDataExtract15Sep2023-30Sep2023.csv',\n",
       " '381JourneyDataExtract01Oct2023-14Oct2023.csv',\n",
       " '382JourneyDataExtract15Oct2023-31Oct2023.csv',\n",
       " '383JourneyDataExtract01Nov2023-14Nov2023.csv',\n",
       " '384JourneyDataExtract15Nov2023-30Nov2023.csv',\n",
       " '385JourneyDataExtract01Dec2023-14Dec2023.csv',\n",
       " '386JourneyDataExtract15Dec2023-31Dec2023.csv']"
      ]
     },
     "execution_count": 24,
     "metadata": {},
     "output_type": "execute_result"
    }
   ],
   "source": [
    "import pandas as pd\n",
    "import urllib\n",
    "\n",
    "## Read list of names of all files from a separate CSV - can't scrape them from website as they're hidden\n",
    "with open('data/filtered_cycle_data.csv', 'r') as f:\n",
    "    csv_list = f.read().splitlines()\n",
    "\n",
    "list(csv_list)"
   ]
  },
  {
   "cell_type": "code",
   "execution_count": null,
   "metadata": {},
   "outputs": [
    {
     "name": "stdout",
     "output_type": "stream",
     "text": [
      "Downloading https://cycling.data.tfl.gov.uk/usage-stats/246JourneyDataExtract23Dec2020-29Dec2020.csv...\n",
      "Saved: tfl_cycling_data/246JourneyDataExtract23Dec2020-29Dec2020.csv\n",
      "Downloading https://cycling.data.tfl.gov.uk/usage-stats/246JourneyDataExtract30Dec2020-05Jan2021.csv...\n",
      "Saved: tfl_cycling_data/246JourneyDataExtract30Dec2020-05Jan2021.csv\n",
      "Downloading https://cycling.data.tfl.gov.uk/usage-stats/247JourneyDataExtract06Jan2021-12Jan2021.csv...\n",
      "Saved: tfl_cycling_data/247JourneyDataExtract06Jan2021-12Jan2021.csv\n",
      "Downloading https://cycling.data.tfl.gov.uk/usage-stats/248JourneyDataExtract13Jan2021-19Jan2021.csv...\n",
      "Saved: tfl_cycling_data/248JourneyDataExtract13Jan2021-19Jan2021.csv\n",
      "Downloading https://cycling.data.tfl.gov.uk/usage-stats/249JourneyDataExtract20Jan2021-26Jan2021.csv...\n",
      "Saved: tfl_cycling_data/249JourneyDataExtract20Jan2021-26Jan2021.csv\n",
      "Downloading https://cycling.data.tfl.gov.uk/usage-stats/250JourneyDataExtract27Jan2021-02Feb2021.csv...\n",
      "Saved: tfl_cycling_data/250JourneyDataExtract27Jan2021-02Feb2021.csv\n",
      "Downloading https://cycling.data.tfl.gov.uk/usage-stats/251JourneyDataExtract03Feb2021-09Feb2021.csv...\n",
      "Saved: tfl_cycling_data/251JourneyDataExtract03Feb2021-09Feb2021.csv\n",
      "Downloading https://cycling.data.tfl.gov.uk/usage-stats/252JourneyDataExtract10Feb2021-16Feb2021.csv...\n",
      "Saved: tfl_cycling_data/252JourneyDataExtract10Feb2021-16Feb2021.csv\n",
      "Downloading https://cycling.data.tfl.gov.uk/usage-stats/253JourneyDataExtract17Feb2021-23Feb2021.csv...\n",
      "Saved: tfl_cycling_data/253JourneyDataExtract17Feb2021-23Feb2021.csv\n",
      "Downloading https://cycling.data.tfl.gov.uk/usage-stats/254JourneyDataExtract24Feb2021-02Mar2021.csv...\n"
     ]
    },
    {
     "ename": "KeyboardInterrupt",
     "evalue": "",
     "output_type": "error",
     "traceback": [
      "\u001b[0;31m---------------------------------------------------------------------------\u001b[0m",
      "\u001b[0;31mKeyboardInterrupt\u001b[0m                         Traceback (most recent call last)",
      "Cell \u001b[0;32mIn[25], line 28\u001b[0m\n\u001b[1;32m     26\u001b[0m \u001b[38;5;28;01mif\u001b[39;00m \u001b[38;5;129;01mnot\u001b[39;00m os\u001b[38;5;241m.\u001b[39mpath\u001b[38;5;241m.\u001b[39mexists(output_path):  \u001b[38;5;66;03m# Avoid re-downloading\u001b[39;00m\n\u001b[1;32m     27\u001b[0m     \u001b[38;5;28mprint\u001b[39m(\u001b[38;5;124mf\u001b[39m\u001b[38;5;124m\"\u001b[39m\u001b[38;5;124mDownloading \u001b[39m\u001b[38;5;132;01m{\u001b[39;00mfile_url\u001b[38;5;132;01m}\u001b[39;00m\u001b[38;5;124m...\u001b[39m\u001b[38;5;124m\"\u001b[39m)\n\u001b[0;32m---> 28\u001b[0m     response \u001b[38;5;241m=\u001b[39m \u001b[43mrequests\u001b[49m\u001b[38;5;241;43m.\u001b[39;49m\u001b[43mget\u001b[49m\u001b[43m(\u001b[49m\u001b[43mfile_url\u001b[49m\u001b[43m)\u001b[49m\n\u001b[1;32m     30\u001b[0m     \u001b[38;5;28;01mif\u001b[39;00m response\u001b[38;5;241m.\u001b[39mstatus_code \u001b[38;5;241m==\u001b[39m \u001b[38;5;241m200\u001b[39m:\n\u001b[1;32m     31\u001b[0m         \u001b[38;5;28;01mwith\u001b[39;00m \u001b[38;5;28mopen\u001b[39m(output_path, \u001b[38;5;124m'\u001b[39m\u001b[38;5;124mwb\u001b[39m\u001b[38;5;124m'\u001b[39m) \u001b[38;5;28;01mas\u001b[39;00m file:\n",
      "File \u001b[0;32m/opt/miniconda3/envs/cycEnv/lib/python3.12/site-packages/requests/api.py:73\u001b[0m, in \u001b[0;36mget\u001b[0;34m(url, params, **kwargs)\u001b[0m\n\u001b[1;32m     62\u001b[0m \u001b[38;5;28;01mdef\u001b[39;00m\u001b[38;5;250m \u001b[39m\u001b[38;5;21mget\u001b[39m(url, params\u001b[38;5;241m=\u001b[39m\u001b[38;5;28;01mNone\u001b[39;00m, \u001b[38;5;241m*\u001b[39m\u001b[38;5;241m*\u001b[39mkwargs):\n\u001b[1;32m     63\u001b[0m \u001b[38;5;250m    \u001b[39m\u001b[38;5;124mr\u001b[39m\u001b[38;5;124;03m\"\"\"Sends a GET request.\u001b[39;00m\n\u001b[1;32m     64\u001b[0m \n\u001b[1;32m     65\u001b[0m \u001b[38;5;124;03m    :param url: URL for the new :class:`Request` object.\u001b[39;00m\n\u001b[0;32m   (...)\u001b[0m\n\u001b[1;32m     70\u001b[0m \u001b[38;5;124;03m    :rtype: requests.Response\u001b[39;00m\n\u001b[1;32m     71\u001b[0m \u001b[38;5;124;03m    \"\"\"\u001b[39;00m\n\u001b[0;32m---> 73\u001b[0m     \u001b[38;5;28;01mreturn\u001b[39;00m \u001b[43mrequest\u001b[49m\u001b[43m(\u001b[49m\u001b[38;5;124;43m\"\u001b[39;49m\u001b[38;5;124;43mget\u001b[39;49m\u001b[38;5;124;43m\"\u001b[39;49m\u001b[43m,\u001b[49m\u001b[43m \u001b[49m\u001b[43murl\u001b[49m\u001b[43m,\u001b[49m\u001b[43m \u001b[49m\u001b[43mparams\u001b[49m\u001b[38;5;241;43m=\u001b[39;49m\u001b[43mparams\u001b[49m\u001b[43m,\u001b[49m\u001b[43m \u001b[49m\u001b[38;5;241;43m*\u001b[39;49m\u001b[38;5;241;43m*\u001b[39;49m\u001b[43mkwargs\u001b[49m\u001b[43m)\u001b[49m\n",
      "File \u001b[0;32m/opt/miniconda3/envs/cycEnv/lib/python3.12/site-packages/requests/api.py:59\u001b[0m, in \u001b[0;36mrequest\u001b[0;34m(method, url, **kwargs)\u001b[0m\n\u001b[1;32m     55\u001b[0m \u001b[38;5;66;03m# By using the 'with' statement we are sure the session is closed, thus we\u001b[39;00m\n\u001b[1;32m     56\u001b[0m \u001b[38;5;66;03m# avoid leaving sockets open which can trigger a ResourceWarning in some\u001b[39;00m\n\u001b[1;32m     57\u001b[0m \u001b[38;5;66;03m# cases, and look like a memory leak in others.\u001b[39;00m\n\u001b[1;32m     58\u001b[0m \u001b[38;5;28;01mwith\u001b[39;00m sessions\u001b[38;5;241m.\u001b[39mSession() \u001b[38;5;28;01mas\u001b[39;00m session:\n\u001b[0;32m---> 59\u001b[0m     \u001b[38;5;28;01mreturn\u001b[39;00m \u001b[43msession\u001b[49m\u001b[38;5;241;43m.\u001b[39;49m\u001b[43mrequest\u001b[49m\u001b[43m(\u001b[49m\u001b[43mmethod\u001b[49m\u001b[38;5;241;43m=\u001b[39;49m\u001b[43mmethod\u001b[49m\u001b[43m,\u001b[49m\u001b[43m \u001b[49m\u001b[43murl\u001b[49m\u001b[38;5;241;43m=\u001b[39;49m\u001b[43murl\u001b[49m\u001b[43m,\u001b[49m\u001b[43m \u001b[49m\u001b[38;5;241;43m*\u001b[39;49m\u001b[38;5;241;43m*\u001b[39;49m\u001b[43mkwargs\u001b[49m\u001b[43m)\u001b[49m\n",
      "File \u001b[0;32m/opt/miniconda3/envs/cycEnv/lib/python3.12/site-packages/requests/sessions.py:589\u001b[0m, in \u001b[0;36mSession.request\u001b[0;34m(self, method, url, params, data, headers, cookies, files, auth, timeout, allow_redirects, proxies, hooks, stream, verify, cert, json)\u001b[0m\n\u001b[1;32m    584\u001b[0m send_kwargs \u001b[38;5;241m=\u001b[39m {\n\u001b[1;32m    585\u001b[0m     \u001b[38;5;124m\"\u001b[39m\u001b[38;5;124mtimeout\u001b[39m\u001b[38;5;124m\"\u001b[39m: timeout,\n\u001b[1;32m    586\u001b[0m     \u001b[38;5;124m\"\u001b[39m\u001b[38;5;124mallow_redirects\u001b[39m\u001b[38;5;124m\"\u001b[39m: allow_redirects,\n\u001b[1;32m    587\u001b[0m }\n\u001b[1;32m    588\u001b[0m send_kwargs\u001b[38;5;241m.\u001b[39mupdate(settings)\n\u001b[0;32m--> 589\u001b[0m resp \u001b[38;5;241m=\u001b[39m \u001b[38;5;28;43mself\u001b[39;49m\u001b[38;5;241;43m.\u001b[39;49m\u001b[43msend\u001b[49m\u001b[43m(\u001b[49m\u001b[43mprep\u001b[49m\u001b[43m,\u001b[49m\u001b[43m \u001b[49m\u001b[38;5;241;43m*\u001b[39;49m\u001b[38;5;241;43m*\u001b[39;49m\u001b[43msend_kwargs\u001b[49m\u001b[43m)\u001b[49m\n\u001b[1;32m    591\u001b[0m \u001b[38;5;28;01mreturn\u001b[39;00m resp\n",
      "File \u001b[0;32m/opt/miniconda3/envs/cycEnv/lib/python3.12/site-packages/requests/sessions.py:746\u001b[0m, in \u001b[0;36mSession.send\u001b[0;34m(self, request, **kwargs)\u001b[0m\n\u001b[1;32m    743\u001b[0m         \u001b[38;5;28;01mpass\u001b[39;00m\n\u001b[1;32m    745\u001b[0m \u001b[38;5;28;01mif\u001b[39;00m \u001b[38;5;129;01mnot\u001b[39;00m stream:\n\u001b[0;32m--> 746\u001b[0m     \u001b[43mr\u001b[49m\u001b[38;5;241;43m.\u001b[39;49m\u001b[43mcontent\u001b[49m\n\u001b[1;32m    748\u001b[0m \u001b[38;5;28;01mreturn\u001b[39;00m r\n",
      "File \u001b[0;32m/opt/miniconda3/envs/cycEnv/lib/python3.12/site-packages/requests/models.py:902\u001b[0m, in \u001b[0;36mResponse.content\u001b[0;34m(self)\u001b[0m\n\u001b[1;32m    900\u001b[0m         \u001b[38;5;28mself\u001b[39m\u001b[38;5;241m.\u001b[39m_content \u001b[38;5;241m=\u001b[39m \u001b[38;5;28;01mNone\u001b[39;00m\n\u001b[1;32m    901\u001b[0m     \u001b[38;5;28;01melse\u001b[39;00m:\n\u001b[0;32m--> 902\u001b[0m         \u001b[38;5;28mself\u001b[39m\u001b[38;5;241m.\u001b[39m_content \u001b[38;5;241m=\u001b[39m \u001b[38;5;124;43mb\u001b[39;49m\u001b[38;5;124;43m\"\u001b[39;49m\u001b[38;5;124;43m\"\u001b[39;49m\u001b[38;5;241;43m.\u001b[39;49m\u001b[43mjoin\u001b[49m\u001b[43m(\u001b[49m\u001b[38;5;28;43mself\u001b[39;49m\u001b[38;5;241;43m.\u001b[39;49m\u001b[43miter_content\u001b[49m\u001b[43m(\u001b[49m\u001b[43mCONTENT_CHUNK_SIZE\u001b[49m\u001b[43m)\u001b[49m\u001b[43m)\u001b[49m \u001b[38;5;129;01mor\u001b[39;00m \u001b[38;5;124mb\u001b[39m\u001b[38;5;124m\"\u001b[39m\u001b[38;5;124m\"\u001b[39m\n\u001b[1;32m    904\u001b[0m \u001b[38;5;28mself\u001b[39m\u001b[38;5;241m.\u001b[39m_content_consumed \u001b[38;5;241m=\u001b[39m \u001b[38;5;28;01mTrue\u001b[39;00m\n\u001b[1;32m    905\u001b[0m \u001b[38;5;66;03m# don't need to release the connection; that's been handled by urllib3\u001b[39;00m\n\u001b[1;32m    906\u001b[0m \u001b[38;5;66;03m# since we exhausted the data.\u001b[39;00m\n",
      "File \u001b[0;32m/opt/miniconda3/envs/cycEnv/lib/python3.12/site-packages/requests/models.py:820\u001b[0m, in \u001b[0;36mResponse.iter_content.<locals>.generate\u001b[0;34m()\u001b[0m\n\u001b[1;32m    818\u001b[0m \u001b[38;5;28;01mif\u001b[39;00m \u001b[38;5;28mhasattr\u001b[39m(\u001b[38;5;28mself\u001b[39m\u001b[38;5;241m.\u001b[39mraw, \u001b[38;5;124m\"\u001b[39m\u001b[38;5;124mstream\u001b[39m\u001b[38;5;124m\"\u001b[39m):\n\u001b[1;32m    819\u001b[0m     \u001b[38;5;28;01mtry\u001b[39;00m:\n\u001b[0;32m--> 820\u001b[0m         \u001b[38;5;28;01myield from\u001b[39;00m \u001b[38;5;28mself\u001b[39m\u001b[38;5;241m.\u001b[39mraw\u001b[38;5;241m.\u001b[39mstream(chunk_size, decode_content\u001b[38;5;241m=\u001b[39m\u001b[38;5;28;01mTrue\u001b[39;00m)\n\u001b[1;32m    821\u001b[0m     \u001b[38;5;28;01mexcept\u001b[39;00m ProtocolError \u001b[38;5;28;01mas\u001b[39;00m e:\n\u001b[1;32m    822\u001b[0m         \u001b[38;5;28;01mraise\u001b[39;00m ChunkedEncodingError(e)\n",
      "File \u001b[0;32m/opt/miniconda3/envs/cycEnv/lib/python3.12/site-packages/urllib3/response.py:1066\u001b[0m, in \u001b[0;36mHTTPResponse.stream\u001b[0;34m(self, amt, decode_content)\u001b[0m\n\u001b[1;32m   1064\u001b[0m \u001b[38;5;28;01melse\u001b[39;00m:\n\u001b[1;32m   1065\u001b[0m     \u001b[38;5;28;01mwhile\u001b[39;00m \u001b[38;5;129;01mnot\u001b[39;00m is_fp_closed(\u001b[38;5;28mself\u001b[39m\u001b[38;5;241m.\u001b[39m_fp) \u001b[38;5;129;01mor\u001b[39;00m \u001b[38;5;28mlen\u001b[39m(\u001b[38;5;28mself\u001b[39m\u001b[38;5;241m.\u001b[39m_decoded_buffer) \u001b[38;5;241m>\u001b[39m \u001b[38;5;241m0\u001b[39m:\n\u001b[0;32m-> 1066\u001b[0m         data \u001b[38;5;241m=\u001b[39m \u001b[38;5;28;43mself\u001b[39;49m\u001b[38;5;241;43m.\u001b[39;49m\u001b[43mread\u001b[49m\u001b[43m(\u001b[49m\u001b[43mamt\u001b[49m\u001b[38;5;241;43m=\u001b[39;49m\u001b[43mamt\u001b[49m\u001b[43m,\u001b[49m\u001b[43m \u001b[49m\u001b[43mdecode_content\u001b[49m\u001b[38;5;241;43m=\u001b[39;49m\u001b[43mdecode_content\u001b[49m\u001b[43m)\u001b[49m\n\u001b[1;32m   1068\u001b[0m         \u001b[38;5;28;01mif\u001b[39;00m data:\n\u001b[1;32m   1069\u001b[0m             \u001b[38;5;28;01myield\u001b[39;00m data\n",
      "File \u001b[0;32m/opt/miniconda3/envs/cycEnv/lib/python3.12/site-packages/urllib3/response.py:955\u001b[0m, in \u001b[0;36mHTTPResponse.read\u001b[0;34m(self, amt, decode_content, cache_content)\u001b[0m\n\u001b[1;32m    952\u001b[0m     \u001b[38;5;28;01mif\u001b[39;00m \u001b[38;5;28mlen\u001b[39m(\u001b[38;5;28mself\u001b[39m\u001b[38;5;241m.\u001b[39m_decoded_buffer) \u001b[38;5;241m>\u001b[39m\u001b[38;5;241m=\u001b[39m amt:\n\u001b[1;32m    953\u001b[0m         \u001b[38;5;28;01mreturn\u001b[39;00m \u001b[38;5;28mself\u001b[39m\u001b[38;5;241m.\u001b[39m_decoded_buffer\u001b[38;5;241m.\u001b[39mget(amt)\n\u001b[0;32m--> 955\u001b[0m data \u001b[38;5;241m=\u001b[39m \u001b[38;5;28;43mself\u001b[39;49m\u001b[38;5;241;43m.\u001b[39;49m\u001b[43m_raw_read\u001b[49m\u001b[43m(\u001b[49m\u001b[43mamt\u001b[49m\u001b[43m)\u001b[49m\n\u001b[1;32m    957\u001b[0m flush_decoder \u001b[38;5;241m=\u001b[39m amt \u001b[38;5;129;01mis\u001b[39;00m \u001b[38;5;28;01mNone\u001b[39;00m \u001b[38;5;129;01mor\u001b[39;00m (amt \u001b[38;5;241m!=\u001b[39m \u001b[38;5;241m0\u001b[39m \u001b[38;5;129;01mand\u001b[39;00m \u001b[38;5;129;01mnot\u001b[39;00m data)\n\u001b[1;32m    959\u001b[0m \u001b[38;5;28;01mif\u001b[39;00m \u001b[38;5;129;01mnot\u001b[39;00m data \u001b[38;5;129;01mand\u001b[39;00m \u001b[38;5;28mlen\u001b[39m(\u001b[38;5;28mself\u001b[39m\u001b[38;5;241m.\u001b[39m_decoded_buffer) \u001b[38;5;241m==\u001b[39m \u001b[38;5;241m0\u001b[39m:\n",
      "File \u001b[0;32m/opt/miniconda3/envs/cycEnv/lib/python3.12/site-packages/urllib3/response.py:879\u001b[0m, in \u001b[0;36mHTTPResponse._raw_read\u001b[0;34m(self, amt, read1)\u001b[0m\n\u001b[1;32m    876\u001b[0m fp_closed \u001b[38;5;241m=\u001b[39m \u001b[38;5;28mgetattr\u001b[39m(\u001b[38;5;28mself\u001b[39m\u001b[38;5;241m.\u001b[39m_fp, \u001b[38;5;124m\"\u001b[39m\u001b[38;5;124mclosed\u001b[39m\u001b[38;5;124m\"\u001b[39m, \u001b[38;5;28;01mFalse\u001b[39;00m)\n\u001b[1;32m    878\u001b[0m \u001b[38;5;28;01mwith\u001b[39;00m \u001b[38;5;28mself\u001b[39m\u001b[38;5;241m.\u001b[39m_error_catcher():\n\u001b[0;32m--> 879\u001b[0m     data \u001b[38;5;241m=\u001b[39m \u001b[38;5;28;43mself\u001b[39;49m\u001b[38;5;241;43m.\u001b[39;49m\u001b[43m_fp_read\u001b[49m\u001b[43m(\u001b[49m\u001b[43mamt\u001b[49m\u001b[43m,\u001b[49m\u001b[43m \u001b[49m\u001b[43mread1\u001b[49m\u001b[38;5;241;43m=\u001b[39;49m\u001b[43mread1\u001b[49m\u001b[43m)\u001b[49m \u001b[38;5;28;01mif\u001b[39;00m \u001b[38;5;129;01mnot\u001b[39;00m fp_closed \u001b[38;5;28;01melse\u001b[39;00m \u001b[38;5;124mb\u001b[39m\u001b[38;5;124m\"\u001b[39m\u001b[38;5;124m\"\u001b[39m\n\u001b[1;32m    880\u001b[0m     \u001b[38;5;28;01mif\u001b[39;00m amt \u001b[38;5;129;01mis\u001b[39;00m \u001b[38;5;129;01mnot\u001b[39;00m \u001b[38;5;28;01mNone\u001b[39;00m \u001b[38;5;129;01mand\u001b[39;00m amt \u001b[38;5;241m!=\u001b[39m \u001b[38;5;241m0\u001b[39m \u001b[38;5;129;01mand\u001b[39;00m \u001b[38;5;129;01mnot\u001b[39;00m data:\n\u001b[1;32m    881\u001b[0m         \u001b[38;5;66;03m# Platform-specific: Buggy versions of Python.\u001b[39;00m\n\u001b[1;32m    882\u001b[0m         \u001b[38;5;66;03m# Close the connection when no data is returned\u001b[39;00m\n\u001b[0;32m   (...)\u001b[0m\n\u001b[1;32m    887\u001b[0m         \u001b[38;5;66;03m# not properly close the connection in all cases. There is\u001b[39;00m\n\u001b[1;32m    888\u001b[0m         \u001b[38;5;66;03m# no harm in redundantly calling close.\u001b[39;00m\n\u001b[1;32m    889\u001b[0m         \u001b[38;5;28mself\u001b[39m\u001b[38;5;241m.\u001b[39m_fp\u001b[38;5;241m.\u001b[39mclose()\n",
      "File \u001b[0;32m/opt/miniconda3/envs/cycEnv/lib/python3.12/site-packages/urllib3/response.py:862\u001b[0m, in \u001b[0;36mHTTPResponse._fp_read\u001b[0;34m(self, amt, read1)\u001b[0m\n\u001b[1;32m    859\u001b[0m     \u001b[38;5;28;01mreturn\u001b[39;00m \u001b[38;5;28mself\u001b[39m\u001b[38;5;241m.\u001b[39m_fp\u001b[38;5;241m.\u001b[39mread1(amt) \u001b[38;5;28;01mif\u001b[39;00m amt \u001b[38;5;129;01mis\u001b[39;00m \u001b[38;5;129;01mnot\u001b[39;00m \u001b[38;5;28;01mNone\u001b[39;00m \u001b[38;5;28;01melse\u001b[39;00m \u001b[38;5;28mself\u001b[39m\u001b[38;5;241m.\u001b[39m_fp\u001b[38;5;241m.\u001b[39mread1()\n\u001b[1;32m    860\u001b[0m \u001b[38;5;28;01melse\u001b[39;00m:\n\u001b[1;32m    861\u001b[0m     \u001b[38;5;66;03m# StringIO doesn't like amt=None\u001b[39;00m\n\u001b[0;32m--> 862\u001b[0m     \u001b[38;5;28;01mreturn\u001b[39;00m \u001b[38;5;28;43mself\u001b[39;49m\u001b[38;5;241;43m.\u001b[39;49m\u001b[43m_fp\u001b[49m\u001b[38;5;241;43m.\u001b[39;49m\u001b[43mread\u001b[49m\u001b[43m(\u001b[49m\u001b[43mamt\u001b[49m\u001b[43m)\u001b[49m \u001b[38;5;28;01mif\u001b[39;00m amt \u001b[38;5;129;01mis\u001b[39;00m \u001b[38;5;129;01mnot\u001b[39;00m \u001b[38;5;28;01mNone\u001b[39;00m \u001b[38;5;28;01melse\u001b[39;00m \u001b[38;5;28mself\u001b[39m\u001b[38;5;241m.\u001b[39m_fp\u001b[38;5;241m.\u001b[39mread()\n",
      "File \u001b[0;32m/opt/miniconda3/envs/cycEnv/lib/python3.12/http/client.py:479\u001b[0m, in \u001b[0;36mHTTPResponse.read\u001b[0;34m(self, amt)\u001b[0m\n\u001b[1;32m    476\u001b[0m \u001b[38;5;28;01mif\u001b[39;00m \u001b[38;5;28mself\u001b[39m\u001b[38;5;241m.\u001b[39mlength \u001b[38;5;129;01mis\u001b[39;00m \u001b[38;5;129;01mnot\u001b[39;00m \u001b[38;5;28;01mNone\u001b[39;00m \u001b[38;5;129;01mand\u001b[39;00m amt \u001b[38;5;241m>\u001b[39m \u001b[38;5;28mself\u001b[39m\u001b[38;5;241m.\u001b[39mlength:\n\u001b[1;32m    477\u001b[0m     \u001b[38;5;66;03m# clip the read to the \"end of response\"\u001b[39;00m\n\u001b[1;32m    478\u001b[0m     amt \u001b[38;5;241m=\u001b[39m \u001b[38;5;28mself\u001b[39m\u001b[38;5;241m.\u001b[39mlength\n\u001b[0;32m--> 479\u001b[0m s \u001b[38;5;241m=\u001b[39m \u001b[38;5;28;43mself\u001b[39;49m\u001b[38;5;241;43m.\u001b[39;49m\u001b[43mfp\u001b[49m\u001b[38;5;241;43m.\u001b[39;49m\u001b[43mread\u001b[49m\u001b[43m(\u001b[49m\u001b[43mamt\u001b[49m\u001b[43m)\u001b[49m\n\u001b[1;32m    480\u001b[0m \u001b[38;5;28;01mif\u001b[39;00m \u001b[38;5;129;01mnot\u001b[39;00m s \u001b[38;5;129;01mand\u001b[39;00m amt:\n\u001b[1;32m    481\u001b[0m     \u001b[38;5;66;03m# Ideally, we would raise IncompleteRead if the content-length\u001b[39;00m\n\u001b[1;32m    482\u001b[0m     \u001b[38;5;66;03m# wasn't satisfied, but it might break compatibility.\u001b[39;00m\n\u001b[1;32m    483\u001b[0m     \u001b[38;5;28mself\u001b[39m\u001b[38;5;241m.\u001b[39m_close_conn()\n",
      "File \u001b[0;32m/opt/miniconda3/envs/cycEnv/lib/python3.12/socket.py:720\u001b[0m, in \u001b[0;36mSocketIO.readinto\u001b[0;34m(self, b)\u001b[0m\n\u001b[1;32m    718\u001b[0m \u001b[38;5;28;01mwhile\u001b[39;00m \u001b[38;5;28;01mTrue\u001b[39;00m:\n\u001b[1;32m    719\u001b[0m     \u001b[38;5;28;01mtry\u001b[39;00m:\n\u001b[0;32m--> 720\u001b[0m         \u001b[38;5;28;01mreturn\u001b[39;00m \u001b[38;5;28;43mself\u001b[39;49m\u001b[38;5;241;43m.\u001b[39;49m\u001b[43m_sock\u001b[49m\u001b[38;5;241;43m.\u001b[39;49m\u001b[43mrecv_into\u001b[49m\u001b[43m(\u001b[49m\u001b[43mb\u001b[49m\u001b[43m)\u001b[49m\n\u001b[1;32m    721\u001b[0m     \u001b[38;5;28;01mexcept\u001b[39;00m timeout:\n\u001b[1;32m    722\u001b[0m         \u001b[38;5;28mself\u001b[39m\u001b[38;5;241m.\u001b[39m_timeout_occurred \u001b[38;5;241m=\u001b[39m \u001b[38;5;28;01mTrue\u001b[39;00m\n",
      "File \u001b[0;32m/opt/miniconda3/envs/cycEnv/lib/python3.12/ssl.py:1251\u001b[0m, in \u001b[0;36mSSLSocket.recv_into\u001b[0;34m(self, buffer, nbytes, flags)\u001b[0m\n\u001b[1;32m   1247\u001b[0m     \u001b[38;5;28;01mif\u001b[39;00m flags \u001b[38;5;241m!=\u001b[39m \u001b[38;5;241m0\u001b[39m:\n\u001b[1;32m   1248\u001b[0m         \u001b[38;5;28;01mraise\u001b[39;00m \u001b[38;5;167;01mValueError\u001b[39;00m(\n\u001b[1;32m   1249\u001b[0m           \u001b[38;5;124m\"\u001b[39m\u001b[38;5;124mnon-zero flags not allowed in calls to recv_into() on \u001b[39m\u001b[38;5;132;01m%s\u001b[39;00m\u001b[38;5;124m\"\u001b[39m \u001b[38;5;241m%\u001b[39m\n\u001b[1;32m   1250\u001b[0m           \u001b[38;5;28mself\u001b[39m\u001b[38;5;241m.\u001b[39m\u001b[38;5;18m__class__\u001b[39m)\n\u001b[0;32m-> 1251\u001b[0m     \u001b[38;5;28;01mreturn\u001b[39;00m \u001b[38;5;28;43mself\u001b[39;49m\u001b[38;5;241;43m.\u001b[39;49m\u001b[43mread\u001b[49m\u001b[43m(\u001b[49m\u001b[43mnbytes\u001b[49m\u001b[43m,\u001b[49m\u001b[43m \u001b[49m\u001b[43mbuffer\u001b[49m\u001b[43m)\u001b[49m\n\u001b[1;32m   1252\u001b[0m \u001b[38;5;28;01melse\u001b[39;00m:\n\u001b[1;32m   1253\u001b[0m     \u001b[38;5;28;01mreturn\u001b[39;00m \u001b[38;5;28msuper\u001b[39m()\u001b[38;5;241m.\u001b[39mrecv_into(buffer, nbytes, flags)\n",
      "File \u001b[0;32m/opt/miniconda3/envs/cycEnv/lib/python3.12/ssl.py:1103\u001b[0m, in \u001b[0;36mSSLSocket.read\u001b[0;34m(self, len, buffer)\u001b[0m\n\u001b[1;32m   1101\u001b[0m \u001b[38;5;28;01mtry\u001b[39;00m:\n\u001b[1;32m   1102\u001b[0m     \u001b[38;5;28;01mif\u001b[39;00m buffer \u001b[38;5;129;01mis\u001b[39;00m \u001b[38;5;129;01mnot\u001b[39;00m \u001b[38;5;28;01mNone\u001b[39;00m:\n\u001b[0;32m-> 1103\u001b[0m         \u001b[38;5;28;01mreturn\u001b[39;00m \u001b[38;5;28;43mself\u001b[39;49m\u001b[38;5;241;43m.\u001b[39;49m\u001b[43m_sslobj\u001b[49m\u001b[38;5;241;43m.\u001b[39;49m\u001b[43mread\u001b[49m\u001b[43m(\u001b[49m\u001b[38;5;28;43mlen\u001b[39;49m\u001b[43m,\u001b[49m\u001b[43m \u001b[49m\u001b[43mbuffer\u001b[49m\u001b[43m)\u001b[49m\n\u001b[1;32m   1104\u001b[0m     \u001b[38;5;28;01melse\u001b[39;00m:\n\u001b[1;32m   1105\u001b[0m         \u001b[38;5;28;01mreturn\u001b[39;00m \u001b[38;5;28mself\u001b[39m\u001b[38;5;241m.\u001b[39m_sslobj\u001b[38;5;241m.\u001b[39mread(\u001b[38;5;28mlen\u001b[39m)\n",
      "\u001b[0;31mKeyboardInterrupt\u001b[0m: "
     ]
    }
   ],
   "source": [
    "import requests\n",
    "import os\n",
    "\n",
    "# Step 1: Define base URL and output folder\n",
    "base_url = 'https://cycling.data.tfl.gov.uk/usage-stats/'\n",
    "download_folder = 'tfl_cycling_data'\n",
    "os.makedirs(download_folder, exist_ok=True)\n",
    "\n",
    "## Read list of names of all files from a separate CSV - can't scrape them from website as they're hidden\n",
    "with open('data/filtered_cycle_data.csv', 'r') as f:\n",
    "    csv_list = f.read().splitlines()\n",
    "\n",
    "# Step 3: Download files\n",
    "for filename in csv_list:\n",
    "    file_url = f\"{base_url}{filename}\"\n",
    "    output_path = os.path.join(download_folder, filename)\n",
    "\n",
    "    if not os.path.exists(output_path):  # Avoid re-downloading\n",
    "        print(f\"Downloading {file_url}...\")\n",
    "        response = requests.get(file_url)\n",
    "\n",
    "        if response.status_code == 200:\n",
    "            with open(output_path, 'wb') as file:\n",
    "                file.write(response.content)\n",
    "            print(f\"Saved: {output_path}\")\n",
    "        else:\n",
    "            print(f\"Failed to download: {file_url} (Status {response.status_code})\")\n",
    "\n",
    "print(\"Download process completed.\")"
   ]
  },
  {
   "cell_type": "code",
   "execution_count": 4,
   "metadata": {},
   "outputs": [
    {
     "data": {
      "text/html": [
       "<div>\n",
       "<style scoped>\n",
       "    .dataframe tbody tr th:only-of-type {\n",
       "        vertical-align: middle;\n",
       "    }\n",
       "\n",
       "    .dataframe tbody tr th {\n",
       "        vertical-align: top;\n",
       "    }\n",
       "\n",
       "    .dataframe thead th {\n",
       "        text-align: right;\n",
       "    }\n",
       "</style>\n",
       "<table border=\"1\" class=\"dataframe\">\n",
       "  <thead>\n",
       "    <tr style=\"text-align: right;\">\n",
       "      <th></th>\n",
       "      <th>Rental Id</th>\n",
       "      <th>Duration</th>\n",
       "      <th>Bike Id</th>\n",
       "      <th>End Date</th>\n",
       "      <th>EndStation Id</th>\n",
       "      <th>EndStation Name</th>\n",
       "      <th>Start Date</th>\n",
       "      <th>StartStation Id</th>\n",
       "      <th>StartStation Name</th>\n",
       "    </tr>\n",
       "  </thead>\n",
       "  <tbody>\n",
       "    <tr>\n",
       "      <th>0</th>\n",
       "      <td>104820582</td>\n",
       "      <td>1620</td>\n",
       "      <td>22</td>\n",
       "      <td>03/01/2021 15:14</td>\n",
       "      <td>11</td>\n",
       "      <td>Brunswick Square, Bloomsbury</td>\n",
       "      <td>03/01/2021 14:47</td>\n",
       "      <td>542</td>\n",
       "      <td>Salmon Lane, Limehouse</td>\n",
       "    </tr>\n",
       "    <tr>\n",
       "      <th>1</th>\n",
       "      <td>104816169</td>\n",
       "      <td>1740</td>\n",
       "      <td>10755</td>\n",
       "      <td>03/01/2021 13:26</td>\n",
       "      <td>542</td>\n",
       "      <td>Salmon Lane, Limehouse</td>\n",
       "      <td>03/01/2021 12:57</td>\n",
       "      <td>546</td>\n",
       "      <td>New Fetter Lane, Holborn</td>\n",
       "    </tr>\n",
       "    <tr>\n",
       "      <th>2</th>\n",
       "      <td>104757113</td>\n",
       "      <td>1620</td>\n",
       "      <td>18908</td>\n",
       "      <td>30/12/2020 15:00</td>\n",
       "      <td>239</td>\n",
       "      <td>Warren Street Station, Euston</td>\n",
       "      <td>30/12/2020 14:33</td>\n",
       "      <td>779</td>\n",
       "      <td>Houndsditch, Aldgate</td>\n",
       "    </tr>\n",
       "    <tr>\n",
       "      <th>3</th>\n",
       "      <td>104749458</td>\n",
       "      <td>780</td>\n",
       "      <td>18499</td>\n",
       "      <td>30/12/2020 09:21</td>\n",
       "      <td>766</td>\n",
       "      <td>Ram Street, Wandsworth</td>\n",
       "      <td>30/12/2020 09:08</td>\n",
       "      <td>653</td>\n",
       "      <td>Simpson Street, Clapham Junction</td>\n",
       "    </tr>\n",
       "    <tr>\n",
       "      <th>4</th>\n",
       "      <td>104788389</td>\n",
       "      <td>5400</td>\n",
       "      <td>15668</td>\n",
       "      <td>01/01/2021 16:29</td>\n",
       "      <td>655</td>\n",
       "      <td>Crabtree Lane, Fulham</td>\n",
       "      <td>01/01/2021 14:59</td>\n",
       "      <td>655</td>\n",
       "      <td>Crabtree Lane, Fulham</td>\n",
       "    </tr>\n",
       "  </tbody>\n",
       "</table>\n",
       "</div>"
      ],
      "text/plain": [
       "   Rental Id  Duration  Bike Id          End Date  EndStation Id  \\\n",
       "0  104820582      1620       22  03/01/2021 15:14             11   \n",
       "1  104816169      1740    10755  03/01/2021 13:26            542   \n",
       "2  104757113      1620    18908  30/12/2020 15:00            239   \n",
       "3  104749458       780    18499  30/12/2020 09:21            766   \n",
       "4  104788389      5400    15668  01/01/2021 16:29            655   \n",
       "\n",
       "                 EndStation Name        Start Date  StartStation Id  \\\n",
       "0   Brunswick Square, Bloomsbury  03/01/2021 14:47              542   \n",
       "1         Salmon Lane, Limehouse  03/01/2021 12:57              546   \n",
       "2  Warren Street Station, Euston  30/12/2020 14:33              779   \n",
       "3         Ram Street, Wandsworth  30/12/2020 09:08              653   \n",
       "4          Crabtree Lane, Fulham  01/01/2021 14:59              655   \n",
       "\n",
       "                  StartStation Name  \n",
       "0            Salmon Lane, Limehouse  \n",
       "1          New Fetter Lane, Holborn  \n",
       "2              Houndsditch, Aldgate  \n",
       "3  Simpson Street, Clapham Junction  \n",
       "4             Crabtree Lane, Fulham  "
      ]
     },
     "execution_count": 4,
     "metadata": {},
     "output_type": "execute_result"
    }
   ],
   "source": [
    "data = pd.read_csv(\"tfl_cycling_data/246JourneyDataExtract30Dec2020-05Jan2021.csv\")\n",
    "data.head()"
   ]
  },
  {
   "cell_type": "code",
   "execution_count": 5,
   "metadata": {},
   "outputs": [
    {
     "data": {
      "text/plain": [
       "(93002, 9)"
      ]
     },
     "execution_count": 5,
     "metadata": {},
     "output_type": "execute_result"
    }
   ],
   "source": [
    "data.shape"
   ]
  },
  {
   "cell_type": "code",
   "execution_count": null,
   "metadata": {},
   "outputs": [],
   "source": []
  },
  {
   "cell_type": "code",
   "execution_count": null,
   "metadata": {},
   "outputs": [],
   "source": []
  },
  {
   "cell_type": "code",
   "execution_count": null,
   "metadata": {},
   "outputs": [],
   "source": []
  },
  {
   "cell_type": "code",
   "execution_count": null,
   "metadata": {},
   "outputs": [],
   "source": []
  },
  {
   "cell_type": "code",
   "execution_count": null,
   "metadata": {},
   "outputs": [],
   "source": []
  }
 ],
 "metadata": {
  "kernelspec": {
   "display_name": "cycEnv",
   "language": "python",
   "name": "python3"
  },
  "language_info": {
   "codemirror_mode": {
    "name": "ipython",
    "version": 3
   },
   "file_extension": ".py",
   "mimetype": "text/x-python",
   "name": "python",
   "nbconvert_exporter": "python",
   "pygments_lexer": "ipython3",
   "version": "3.12.9"
  }
 },
 "nbformat": 4,
 "nbformat_minor": 2
}
