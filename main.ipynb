{
 "cells": [
  {
   "cell_type": "markdown",
   "metadata": {},
   "source": [
    "# **Cycling analysis**"
   ]
  },
  {
   "cell_type": "markdown",
   "metadata": {},
   "source": [
    "---"
   ]
  },
  {
   "cell_type": "markdown",
   "metadata": {},
   "source": [
    "## **Imports**"
   ]
  },
  {
   "cell_type": "code",
   "execution_count": 37,
   "metadata": {},
   "outputs": [],
   "source": [
    "import requests\n",
    "from bs4 import BeautifulSoup\n",
    "import os\n",
    "import re\n",
    "from urllib.parse import urljoin\n",
    "import selenium\n",
    "import pandas as pd\n",
    "import numpy as np\n",
    "import matplotlib.pyplot as plt\n",
    "import dask.dataframe as dd\n",
    "%matplotlib inline"
   ]
  },
  {
   "cell_type": "markdown",
   "metadata": {},
   "source": [
    "---"
   ]
  },
  {
   "cell_type": "markdown",
   "metadata": {},
   "source": [
    "## **Import csv files**"
   ]
  },
  {
   "cell_type": "markdown",
   "metadata": {},
   "source": [
    "### **Inspect differences between CSV files**"
   ]
  },
  {
   "cell_type": "code",
   "execution_count": 38,
   "metadata": {},
   "outputs": [
    {
     "name": "stdout",
     "output_type": "stream",
     "text": [
      "🔹 **Column Set 1: Found in 89 files**\n",
      "Files: ['246JourneyDataExtract23Dec2020-29Dec2020.csv', '246JourneyDataExtract30Dec2020-05Jan2021.csv', '247JourneyDataExtract06Jan2021-12Jan2021.csv', '248JourneyDataExtract13Jan2021-19Jan2021.csv', '249JourneyDataExtract20Jan2021-26Jan2021.csv']...\n",
      "Columns: ('Bike Id', 'Duration', 'End Date', 'EndStation Id', 'EndStation Name', 'Rental Id', 'Start Date', 'StartStation Id', 'StartStation Name')\n",
      "\n",
      "🔹 **Column Set 2: Found in 1 files**\n",
      "Files: ['325JourneyDataExtract06Jul2022-12Jul2022.csv']\n",
      "Columns: ('Bike Id', 'Duration', 'End Date', 'EndStation Name', 'Rental Id', 'Start Date', 'StartStation Id', 'StartStation Name')\n",
      "\n",
      "🔹 **Column Set 3: Found in 53 files**\n",
      "Files: ['335JourneyDataExtract12Sep2022-18Sep2022.csv', '336JourneyDataExtract19Sep2022-25Sep2022.csv', '337JourneyDataExtract26Sep2022-02Oct2022.csv', '338JourneyDataExtract03Oct2022-09Oct2022.csv', '339JourneyDataExtract10Oct2022-16Oct2022.csv']...\n",
      "Columns: ('Bike model', 'Bike number', 'End date', 'End station', 'End station number', 'Number', 'Start date', 'Start station', 'Start station number', 'Total duration', 'Total duration (ms)')\n",
      "\n"
     ]
    }
   ],
   "source": [
    "# Define data folder\n",
    "data_folder = \"data/tfl_cycling_data\"\n",
    "\n",
    "# Get all CSV files\n",
    "csv_files = sorted([f for f in os.listdir(data_folder) if f.endswith(\".csv\")])\n",
    "\n",
    "# Dictionary to store column names for each file\n",
    "column_map = {}\n",
    "\n",
    "# Extract column names from each CSV file\n",
    "for file in csv_files:\n",
    "    df = pd.read_csv(os.path.join(data_folder, file), nrows=1)  # Read only first row for efficiency\n",
    "    column_map[file] = set(df.columns)\n",
    "\n",
    "# Find unique sets of column names\n",
    "unique_column_sets = {}\n",
    "for file, columns in column_map.items():\n",
    "    columns_tuple = tuple(sorted(columns))  # Convert to tuple for dict keys (hashable)\n",
    "    if columns_tuple not in unique_column_sets:\n",
    "        unique_column_sets[columns_tuple] = []\n",
    "    unique_column_sets[columns_tuple].append(file)\n",
    "\n",
    "# Print summary of differences\n",
    "for idx, (columns, files) in enumerate(unique_column_sets.items()):\n",
    "    print(f\"🔹 **Column Set {idx+1}: Found in {len(files)} files**\")\n",
    "    print(f\"Files: {files[:5]}{'...' if len(files) > 5 else ''}\")  # Show first few files\n",
    "    print(f\"Columns: {columns}\\n\")"
   ]
  },
  {
   "cell_type": "markdown",
   "metadata": {},
   "source": [
    "### **Group similar files**"
   ]
  },
  {
   "cell_type": "code",
   "execution_count": 39,
   "metadata": {},
   "outputs": [
    {
     "name": "stdout",
     "output_type": "stream",
     "text": [
      "Group 1 files: ['246JourneyDataExtract23Dec2020-29Dec2020.csv', '246JourneyDataExtract30Dec2020-05Jan2021.csv', '247JourneyDataExtract06Jan2021-12Jan2021.csv', '248JourneyDataExtract13Jan2021-19Jan2021.csv', '249JourneyDataExtract20Jan2021-26Jan2021.csv']\n",
      "Group 2 files: ['325JourneyDataExtract06Jul2022-12Jul2022.csv']\n",
      "Group 3 files: ['335JourneyDataExtract12Sep2022-18Sep2022.csv', '336JourneyDataExtract19Sep2022-25Sep2022.csv', '337JourneyDataExtract26Sep2022-02Oct2022.csv', '338JourneyDataExtract03Oct2022-09Oct2022.csv', '339JourneyDataExtract10Oct2022-16Oct2022.csv']\n"
     ]
    }
   ],
   "source": [
    "file_groups = {}\n",
    "\n",
    "for idx, (columns, files) in enumerate(unique_column_sets.items()):\n",
    "    var_name = f\"group_{idx+1}\"\n",
    "    file_groups[var_name] =  files\n",
    "\n",
    "# Access groups\n",
    "group_1 = file_groups.get(\"group_1\", [])\n",
    "group_2 = file_groups.get(\"group_2\", [])\n",
    "group_3 = file_groups.get(\"group_3\", [])\n",
    "\n",
    "# Print to verify\n",
    "print(\"Group 1 files:\", group_1[:5])\n",
    "print(\"Group 2 files:\", group_2[:5])\n",
    "print(\"Group 3 files:\", group_3[:5])"
   ]
  },
  {
   "cell_type": "markdown",
   "metadata": {},
   "source": [
    "### **Separate unique files into separate Data Frames**"
   ]
  },
  {
   "cell_type": "code",
   "execution_count": 40,
   "metadata": {},
   "outputs": [
    {
     "name": "stderr",
     "output_type": "stream",
     "text": [
      "/var/folders/xk/r3ls7bqd0b3fdrwsj9bcv3t40000gn/T/ipykernel_71444/993685103.py:9: DtypeWarning: Columns (2,5) have mixed types. Specify dtype option on import or set low_memory=False.\n",
      "  df3_batch = [pd.read_csv(os.path.join(data_folder, file)) for file in group_3]\n",
      "/var/folders/xk/r3ls7bqd0b3fdrwsj9bcv3t40000gn/T/ipykernel_71444/993685103.py:9: DtypeWarning: Columns (2,5) have mixed types. Specify dtype option on import or set low_memory=False.\n",
      "  df3_batch = [pd.read_csv(os.path.join(data_folder, file)) for file in group_3]\n",
      "/var/folders/xk/r3ls7bqd0b3fdrwsj9bcv3t40000gn/T/ipykernel_71444/993685103.py:9: DtypeWarning: Columns (2,5) have mixed types. Specify dtype option on import or set low_memory=False.\n",
      "  df3_batch = [pd.read_csv(os.path.join(data_folder, file)) for file in group_3]\n"
     ]
    }
   ],
   "source": [
    "data_folder = \"data/tfl_cycling_data\"\n",
    "\n",
    "df1_batch = [pd.read_csv(os.path.join(data_folder, file)) for file in group_1]\n",
    "df1 =  pd.concat(df1_batch, ignore_index=True)\n",
    "\n",
    "df2_batch = [pd.read_csv(os.path.join(data_folder, file)) for file in group_2]\n",
    "df2 =  pd.concat(df2_batch, ignore_index=True)\n",
    "\n",
    "df3_batch = [pd.read_csv(os.path.join(data_folder, file)) for file in group_3]\n",
    "df3 =  pd.concat(df3_batch, ignore_index=True)"
   ]
  },
  {
   "cell_type": "markdown",
   "metadata": {},
   "source": [
    "---"
   ]
  },
  {
   "cell_type": "markdown",
   "metadata": {},
   "source": [
    "## **Rename columns**"
   ]
  },
  {
   "cell_type": "markdown",
   "metadata": {},
   "source": [
    "#### **Comparison**  \n",
    "- \"Rental Id\" -> \"Number\";  \n",
    "- \"Duration\" (seconds) -> \"Total duration (ms)\" -------> delete column \"Total duration\";  \n",
    "- \"Bike Id\" -> \"Bike number\";  \n",
    "- \"End Date\" -> \"End date\";  \n",
    "- \"EndStation Id\" -> \"End station number\";  \n",
    "- \"EndStation Name\" -> \"End station\";  \n",
    "- \"Start Date\" -> \"Start date\";  \n",
    "- \"StartStation Id\" -> \"Start station number\";  \n",
    "- \"StartStation Name\" -> \"Start station\";  \n",
    "\n",
    "Only in second dataset:  \n",
    "- \"Bike model\"\n",
    "- \"Total duration\""
   ]
  },
  {
   "cell_type": "code",
   "execution_count": 41,
   "metadata": {},
   "outputs": [
    {
     "data": {
      "text/plain": [
       "['Rental Id',\n",
       " 'Duration',\n",
       " 'Bike Id',\n",
       " 'End Date',\n",
       " 'EndStation Id',\n",
       " 'EndStation Name',\n",
       " 'Start Date',\n",
       " 'StartStation Id',\n",
       " 'StartStation Name']"
      ]
     },
     "execution_count": 41,
     "metadata": {},
     "output_type": "execute_result"
    }
   ],
   "source": [
    "list(df1.columns)"
   ]
  },
  {
   "cell_type": "code",
   "execution_count": 42,
   "metadata": {},
   "outputs": [],
   "source": [
    "new_col_names_df1 = {\n",
    "    'Rental Id': \"rental_id\",\n",
    "    'Duration': \"duration\",\n",
    "    'Bike Id': \"bike_id\",\n",
    "    'End Date': \"end_date\",\n",
    "    'EndStation Id': \"end_station_id\",\n",
    "    'EndStation Name' :\"end_station_name\",\n",
    "    'Start Date': \"start_date\",\n",
    "    'StartStation Id': \"start_station_id\",\n",
    "    'StartStation Name': \"start_station_name\"\n",
    "}"
   ]
  },
  {
   "cell_type": "code",
   "execution_count": 43,
   "metadata": {},
   "outputs": [
    {
     "data": {
      "text/html": [
       "<div>\n",
       "<style scoped>\n",
       "    .dataframe tbody tr th:only-of-type {\n",
       "        vertical-align: middle;\n",
       "    }\n",
       "\n",
       "    .dataframe tbody tr th {\n",
       "        vertical-align: top;\n",
       "    }\n",
       "\n",
       "    .dataframe thead th {\n",
       "        text-align: right;\n",
       "    }\n",
       "</style>\n",
       "<table border=\"1\" class=\"dataframe\">\n",
       "  <thead>\n",
       "    <tr style=\"text-align: right;\">\n",
       "      <th></th>\n",
       "      <th>rental_id</th>\n",
       "      <th>duration</th>\n",
       "      <th>bike_id</th>\n",
       "      <th>end_date</th>\n",
       "      <th>end_station_id</th>\n",
       "      <th>end_station_name</th>\n",
       "      <th>start_date</th>\n",
       "      <th>start_station_id</th>\n",
       "      <th>start_station_name</th>\n",
       "    </tr>\n",
       "  </thead>\n",
       "  <tbody>\n",
       "    <tr>\n",
       "      <th>0</th>\n",
       "      <td>104666386</td>\n",
       "      <td>5100</td>\n",
       "      <td>17552</td>\n",
       "      <td>24/12/2020 18:19</td>\n",
       "      <td>107</td>\n",
       "      <td>Finsbury Leisure Centre, St. Luke's</td>\n",
       "      <td>24/12/2020 16:54</td>\n",
       "      <td>30</td>\n",
       "      <td>Windsor Terrace, Hoxton</td>\n",
       "    </tr>\n",
       "    <tr>\n",
       "      <th>1</th>\n",
       "      <td>104708347</td>\n",
       "      <td>2400</td>\n",
       "      <td>12134</td>\n",
       "      <td>27/12/2020 14:37</td>\n",
       "      <td>194</td>\n",
       "      <td>Hop Exchange, The Borough</td>\n",
       "      <td>27/12/2020 13:57</td>\n",
       "      <td>298</td>\n",
       "      <td>Curlew Street, Shad Thames</td>\n",
       "    </tr>\n",
       "    <tr>\n",
       "      <th>2</th>\n",
       "      <td>104664061</td>\n",
       "      <td>300</td>\n",
       "      <td>18429</td>\n",
       "      <td>24/12/2020 15:23</td>\n",
       "      <td>91</td>\n",
       "      <td>Walnut Tree Walk, Vauxhall</td>\n",
       "      <td>24/12/2020 15:18</td>\n",
       "      <td>272</td>\n",
       "      <td>Baylis Road, Waterloo</td>\n",
       "    </tr>\n",
       "    <tr>\n",
       "      <th>3</th>\n",
       "      <td>104723992</td>\n",
       "      <td>1440</td>\n",
       "      <td>17175</td>\n",
       "      <td>28/12/2020 13:30</td>\n",
       "      <td>742</td>\n",
       "      <td>Blenheim Crescent, Ladbroke Grove</td>\n",
       "      <td>28/12/2020 13:06</td>\n",
       "      <td>303</td>\n",
       "      <td>Albert Gate, Hyde Park</td>\n",
       "    </tr>\n",
       "    <tr>\n",
       "      <th>4</th>\n",
       "      <td>104721666</td>\n",
       "      <td>840</td>\n",
       "      <td>15313</td>\n",
       "      <td>28/12/2020 11:23</td>\n",
       "      <td>307</td>\n",
       "      <td>Black Lion Gate, Kensington Gardens</td>\n",
       "      <td>28/12/2020 11:09</td>\n",
       "      <td>742</td>\n",
       "      <td>Blenheim Crescent, Ladbroke Grove</td>\n",
       "    </tr>\n",
       "  </tbody>\n",
       "</table>\n",
       "</div>"
      ],
      "text/plain": [
       "   rental_id  duration  bike_id          end_date  end_station_id  \\\n",
       "0  104666386      5100    17552  24/12/2020 18:19             107   \n",
       "1  104708347      2400    12134  27/12/2020 14:37             194   \n",
       "2  104664061       300    18429  24/12/2020 15:23              91   \n",
       "3  104723992      1440    17175  28/12/2020 13:30             742   \n",
       "4  104721666       840    15313  28/12/2020 11:23             307   \n",
       "\n",
       "                      end_station_name        start_date  start_station_id  \\\n",
       "0  Finsbury Leisure Centre, St. Luke's  24/12/2020 16:54                30   \n",
       "1            Hop Exchange, The Borough  27/12/2020 13:57               298   \n",
       "2           Walnut Tree Walk, Vauxhall  24/12/2020 15:18               272   \n",
       "3    Blenheim Crescent, Ladbroke Grove  28/12/2020 13:06               303   \n",
       "4  Black Lion Gate, Kensington Gardens  28/12/2020 11:09               742   \n",
       "\n",
       "                  start_station_name  \n",
       "0            Windsor Terrace, Hoxton  \n",
       "1         Curlew Street, Shad Thames  \n",
       "2              Baylis Road, Waterloo  \n",
       "3             Albert Gate, Hyde Park  \n",
       "4  Blenheim Crescent, Ladbroke Grove  "
      ]
     },
     "execution_count": 43,
     "metadata": {},
     "output_type": "execute_result"
    }
   ],
   "source": [
    "df1 = df1.rename(columns=new_col_names_df1)\n",
    "df1.head()"
   ]
  },
  {
   "cell_type": "code",
   "execution_count": 53,
   "metadata": {},
   "outputs": [
    {
     "name": "stderr",
     "output_type": "stream",
     "text": [
      "/var/folders/xk/r3ls7bqd0b3fdrwsj9bcv3t40000gn/T/ipykernel_71444/1734388408.py:2: UserWarning: Parsing dates in %d/%m/%Y %H:%M format when dayfirst=False (the default) was specified. Pass `dayfirst=True` or specify a format to silence this warning.\n",
      "  df1['start_date'] = pd.to_datetime(df1['start_date'], errors='coerce')\n",
      "/var/folders/xk/r3ls7bqd0b3fdrwsj9bcv3t40000gn/T/ipykernel_71444/1734388408.py:3: UserWarning: Parsing dates in %d/%m/%Y %H:%M format when dayfirst=False (the default) was specified. Pass `dayfirst=True` or specify a format to silence this warning.\n",
      "  df1['end_date'] = pd.to_datetime(df1['end_date'], errors='coerce')\n"
     ]
    }
   ],
   "source": [
    "# Convert 'start_date' and 'end_date' to datetime\n",
    "df1['start_date'] = pd.to_datetime(df1['start_date'], errors='coerce')\n",
    "df1['end_date'] = pd.to_datetime(df1['end_date'], errors='coerce')\n",
    "\n",
    "# Convert to a different format (e.g., 'DD/MM/YYYY HH:MM')\n",
    "# df1['start_date'] = df1['start_date'].dt.strftime('%d/%m/%Y %H:%M')\n",
    "# df1['end_date'] = df1['end_date'].dt.strftime('%d/%m/%Y %H:%M')"
   ]
  },
  {
   "cell_type": "code",
   "execution_count": 54,
   "metadata": {},
   "outputs": [
    {
     "name": "stdout",
     "output_type": "stream",
     "text": [
      "<class 'pandas.core.frame.DataFrame'>\n",
      "RangeIndex: 19517751 entries, 0 to 19517750\n",
      "Data columns (total 9 columns):\n",
      " #   Column              Dtype         \n",
      "---  ------              -----         \n",
      " 0   rental_id           int64         \n",
      " 1   duration            int64         \n",
      " 2   bike_id             int64         \n",
      " 3   end_date            datetime64[ns]\n",
      " 4   end_station_id      int64         \n",
      " 5   end_station_name    object        \n",
      " 6   start_date          datetime64[ns]\n",
      " 7   start_station_id    int64         \n",
      " 8   start_station_name  object        \n",
      "dtypes: datetime64[ns](2), int64(5), object(2)\n",
      "memory usage: 1.3+ GB\n"
     ]
    }
   ],
   "source": [
    "df1.info()"
   ]
  },
  {
   "cell_type": "code",
   "execution_count": 46,
   "metadata": {},
   "outputs": [
    {
     "data": {
      "text/plain": [
       "['Rental Id',\n",
       " 'Duration',\n",
       " 'Bike Id',\n",
       " 'End Date',\n",
       " 'EndStation Name',\n",
       " 'Start Date',\n",
       " 'StartStation Id',\n",
       " 'StartStation Name']"
      ]
     },
     "execution_count": 46,
     "metadata": {},
     "output_type": "execute_result"
    }
   ],
   "source": [
    "list(df2.columns)"
   ]
  },
  {
   "cell_type": "code",
   "execution_count": 47,
   "metadata": {},
   "outputs": [],
   "source": [
    "# does not have EndStation Id\n",
    "\n",
    "new_col_names_df2 = {\n",
    "    'Rental Id': \"rental_id\",\n",
    "    'Duration': \"duration\",\n",
    "    'Bike Id': \"bike_id\",\n",
    "    'End Date': \"end_date\",\n",
    "    'EndStation Name' :\"end_station_name\",\n",
    "    'Start Date': \"start_date\",\n",
    "    'StartStation Id': \"start_station_id\",\n",
    "    'StartStation Name': \"start_station_name\"\n",
    "}"
   ]
  },
  {
   "cell_type": "code",
   "execution_count": 48,
   "metadata": {},
   "outputs": [
    {
     "data": {
      "text/html": [
       "<div>\n",
       "<style scoped>\n",
       "    .dataframe tbody tr th:only-of-type {\n",
       "        vertical-align: middle;\n",
       "    }\n",
       "\n",
       "    .dataframe tbody tr th {\n",
       "        vertical-align: top;\n",
       "    }\n",
       "\n",
       "    .dataframe thead th {\n",
       "        text-align: right;\n",
       "    }\n",
       "</style>\n",
       "<table border=\"1\" class=\"dataframe\">\n",
       "  <thead>\n",
       "    <tr style=\"text-align: right;\">\n",
       "      <th></th>\n",
       "      <th>rental_id</th>\n",
       "      <th>duration</th>\n",
       "      <th>bike_id</th>\n",
       "      <th>end_date</th>\n",
       "      <th>end_station_name</th>\n",
       "      <th>start_date</th>\n",
       "      <th>start_station_id</th>\n",
       "      <th>start_station_name</th>\n",
       "    </tr>\n",
       "  </thead>\n",
       "  <tbody>\n",
       "    <tr>\n",
       "      <th>0</th>\n",
       "      <td>122342973</td>\n",
       "      <td>180</td>\n",
       "      <td>16835</td>\n",
       "      <td>06/07/2022 15:26</td>\n",
       "      <td>St. Mary &amp; St. Michael Church, Stepney</td>\n",
       "      <td>06/07/2022 15:23</td>\n",
       "      <td>500</td>\n",
       "      <td>Ansell House, Stepney</td>\n",
       "    </tr>\n",
       "    <tr>\n",
       "      <th>1</th>\n",
       "      <td>122443043</td>\n",
       "      <td>1380</td>\n",
       "      <td>8260</td>\n",
       "      <td>08/07/2022 18:09</td>\n",
       "      <td>Belgrove Street , King's Cross</td>\n",
       "      <td>08/07/2022 17:46</td>\n",
       "      <td>297</td>\n",
       "      <td>Geraldine Street, Elephant &amp; Castle</td>\n",
       "    </tr>\n",
       "    <tr>\n",
       "      <th>2</th>\n",
       "      <td>122392666</td>\n",
       "      <td>600</td>\n",
       "      <td>17431</td>\n",
       "      <td>07/07/2022 17:00</td>\n",
       "      <td>Eel Brook Common, Walham Green</td>\n",
       "      <td>07/07/2022 16:50</td>\n",
       "      <td>615</td>\n",
       "      <td>Finlay Street, Fulham</td>\n",
       "    </tr>\n",
       "    <tr>\n",
       "      <th>3</th>\n",
       "      <td>122516692</td>\n",
       "      <td>900</td>\n",
       "      <td>39</td>\n",
       "      <td>10/07/2022 11:47</td>\n",
       "      <td>Drury Lane, Covent Garden</td>\n",
       "      <td>10/07/2022 11:32</td>\n",
       "      <td>310</td>\n",
       "      <td>Black Prince Road, Vauxhall</td>\n",
       "    </tr>\n",
       "    <tr>\n",
       "      <th>4</th>\n",
       "      <td>122561553</td>\n",
       "      <td>1140</td>\n",
       "      <td>6484</td>\n",
       "      <td>11/07/2022 09:55</td>\n",
       "      <td>Duke Street Hill, London Bridge</td>\n",
       "      <td>11/07/2022 09:36</td>\n",
       "      <td>310</td>\n",
       "      <td>Black Prince Road, Vauxhall</td>\n",
       "    </tr>\n",
       "  </tbody>\n",
       "</table>\n",
       "</div>"
      ],
      "text/plain": [
       "   rental_id  duration  bike_id          end_date  \\\n",
       "0  122342973       180    16835  06/07/2022 15:26   \n",
       "1  122443043      1380     8260  08/07/2022 18:09   \n",
       "2  122392666       600    17431  07/07/2022 17:00   \n",
       "3  122516692       900       39  10/07/2022 11:47   \n",
       "4  122561553      1140     6484  11/07/2022 09:55   \n",
       "\n",
       "                         end_station_name        start_date  start_station_id  \\\n",
       "0  St. Mary & St. Michael Church, Stepney  06/07/2022 15:23               500   \n",
       "1          Belgrove Street , King's Cross  08/07/2022 17:46               297   \n",
       "2          Eel Brook Common, Walham Green  07/07/2022 16:50               615   \n",
       "3               Drury Lane, Covent Garden  10/07/2022 11:32               310   \n",
       "4         Duke Street Hill, London Bridge  11/07/2022 09:36               310   \n",
       "\n",
       "                    start_station_name  \n",
       "0                Ansell House, Stepney  \n",
       "1  Geraldine Street, Elephant & Castle  \n",
       "2                Finlay Street, Fulham  \n",
       "3          Black Prince Road, Vauxhall  \n",
       "4          Black Prince Road, Vauxhall  "
      ]
     },
     "execution_count": 48,
     "metadata": {},
     "output_type": "execute_result"
    }
   ],
   "source": [
    "df2 = df2.rename(columns=new_col_names_df2)\n",
    "df2.head()"
   ]
  },
  {
   "cell_type": "code",
   "execution_count": 51,
   "metadata": {},
   "outputs": [],
   "source": [
    "# Convert 'start_date' and 'end_date' to datetime\n",
    "df2['start_date'] = pd.to_datetime(df2['start_date'], errors='coerce')\n",
    "df2['end_date'] = pd.to_datetime(df2['end_date'], errors='coerce')\n",
    "\n",
    "# # Convert to a different format (e.g., 'DD/MM/YYYY HH:MM')\n",
    "# df2['start_date'] = df2['start_date'].dt.strftime('%d/%m/%Y %H:%M')\n",
    "# df2['end_date'] = df2['end_date'].dt.strftime('%d/%m/%Y %H:%M')"
   ]
  },
  {
   "cell_type": "code",
   "execution_count": 55,
   "metadata": {},
   "outputs": [
    {
     "name": "stdout",
     "output_type": "stream",
     "text": [
      "<class 'pandas.core.frame.DataFrame'>\n",
      "RangeIndex: 312144 entries, 0 to 312143\n",
      "Data columns (total 8 columns):\n",
      " #   Column              Non-Null Count   Dtype         \n",
      "---  ------              --------------   -----         \n",
      " 0   rental_id           312144 non-null  int64         \n",
      " 1   duration            312144 non-null  int64         \n",
      " 2   bike_id             312144 non-null  int64         \n",
      " 3   end_date            312144 non-null  datetime64[ns]\n",
      " 4   end_station_name    312144 non-null  object        \n",
      " 5   start_date          312144 non-null  datetime64[ns]\n",
      " 6   start_station_id    312144 non-null  int64         \n",
      " 7   start_station_name  312144 non-null  object        \n",
      "dtypes: datetime64[ns](2), int64(4), object(2)\n",
      "memory usage: 19.1+ MB\n"
     ]
    }
   ],
   "source": [
    "df2.info()"
   ]
  },
  {
   "cell_type": "code",
   "execution_count": 57,
   "metadata": {},
   "outputs": [
    {
     "data": {
      "text/plain": [
       "['Number',\n",
       " 'Start date',\n",
       " 'Start station number',\n",
       " 'Start station',\n",
       " 'End date',\n",
       " 'End station number',\n",
       " 'End station',\n",
       " 'Bike number',\n",
       " 'Bike model',\n",
       " 'Total duration',\n",
       " 'Total duration (ms)']"
      ]
     },
     "execution_count": 57,
     "metadata": {},
     "output_type": "execute_result"
    }
   ],
   "source": [
    "list(df3.columns)"
   ]
  },
  {
   "cell_type": "code",
   "execution_count": 58,
   "metadata": {},
   "outputs": [
    {
     "data": {
      "text/plain": [
       "0    7934.133\n",
       "1     736.233\n",
       "2     929.662\n",
       "3    1411.818\n",
       "4    1400.619\n",
       "Name: duration, dtype: float64"
      ]
     },
     "execution_count": 58,
     "metadata": {},
     "output_type": "execute_result"
    }
   ],
   "source": [
    "df3['duration'] = df3['Total duration (ms)'] / 1000\n",
    "df3.duration.head()"
   ]
  },
  {
   "cell_type": "code",
   "execution_count": 59,
   "metadata": {},
   "outputs": [],
   "source": [
    "new_col_names_df3 = {\n",
    "    'Number': \"rental_id\",\n",
    "    'duration': \"duration\",\n",
    "    'Bike number': \"bike_id\",\n",
    "    'End date': \"end_date\",\n",
    "    'End station number': \"end_station_id\",\n",
    "    'End station' :\"end_station_name\",\n",
    "    'Start date': \"start_date\",\n",
    "    'Start station number': \"start_station_id\",\n",
    "    'Start station': \"start_station_name\",\n",
    "    \"Bike model\": \"model\",\n",
    "    'Total duration': \"total_duration\",\n",
    "    'Total duration (ms)': \"total_duration_ms\"\n",
    "}"
   ]
  },
  {
   "cell_type": "code",
   "execution_count": 60,
   "metadata": {},
   "outputs": [
    {
     "data": {
      "text/html": [
       "<div>\n",
       "<style scoped>\n",
       "    .dataframe tbody tr th:only-of-type {\n",
       "        vertical-align: middle;\n",
       "    }\n",
       "\n",
       "    .dataframe tbody tr th {\n",
       "        vertical-align: top;\n",
       "    }\n",
       "\n",
       "    .dataframe thead th {\n",
       "        text-align: right;\n",
       "    }\n",
       "</style>\n",
       "<table border=\"1\" class=\"dataframe\">\n",
       "  <thead>\n",
       "    <tr style=\"text-align: right;\">\n",
       "      <th></th>\n",
       "      <th>rental_id</th>\n",
       "      <th>start_date</th>\n",
       "      <th>start_station_id</th>\n",
       "      <th>start_station_name</th>\n",
       "      <th>end_date</th>\n",
       "      <th>end_station_id</th>\n",
       "      <th>end_station_name</th>\n",
       "      <th>bike_id</th>\n",
       "      <th>model</th>\n",
       "      <th>total_duration</th>\n",
       "      <th>total_duration_ms</th>\n",
       "      <th>duration</th>\n",
       "    </tr>\n",
       "  </thead>\n",
       "  <tbody>\n",
       "    <tr>\n",
       "      <th>0</th>\n",
       "      <td>125230172</td>\n",
       "      <td>2022-09-18 23:59</td>\n",
       "      <td>001059</td>\n",
       "      <td>Albert Embankment, Vauxhall</td>\n",
       "      <td>2022-09-19 02:11</td>\n",
       "      <td>200222</td>\n",
       "      <td>Danvers Street, West Chelsea</td>\n",
       "      <td>54170</td>\n",
       "      <td>CLASSIC</td>\n",
       "      <td>2h 12m 14s</td>\n",
       "      <td>7934133</td>\n",
       "      <td>7934.133</td>\n",
       "    </tr>\n",
       "    <tr>\n",
       "      <th>1</th>\n",
       "      <td>125230173</td>\n",
       "      <td>2022-09-18 23:59</td>\n",
       "      <td>002660</td>\n",
       "      <td>Frith Street, Soho</td>\n",
       "      <td>2022-09-19 00:11</td>\n",
       "      <td>001194</td>\n",
       "      <td>Westminster University, Marylebone</td>\n",
       "      <td>50087</td>\n",
       "      <td>CLASSIC</td>\n",
       "      <td>12m 16s</td>\n",
       "      <td>736233</td>\n",
       "      <td>736.233</td>\n",
       "    </tr>\n",
       "    <tr>\n",
       "      <th>2</th>\n",
       "      <td>125230174</td>\n",
       "      <td>2022-09-18 23:59</td>\n",
       "      <td>001183</td>\n",
       "      <td>Bramham Gardens, Earl's Court</td>\n",
       "      <td>2022-09-19 00:14</td>\n",
       "      <td>300019</td>\n",
       "      <td>Felsham Road, Putney</td>\n",
       "      <td>54561</td>\n",
       "      <td>CLASSIC</td>\n",
       "      <td>15m 29s</td>\n",
       "      <td>929662</td>\n",
       "      <td>929.662</td>\n",
       "    </tr>\n",
       "    <tr>\n",
       "      <th>3</th>\n",
       "      <td>125230175</td>\n",
       "      <td>2022-09-18 23:59</td>\n",
       "      <td>010624</td>\n",
       "      <td>Strata, Elephant &amp; Castle</td>\n",
       "      <td>2022-09-19 00:23</td>\n",
       "      <td>300252</td>\n",
       "      <td>Canada Water Station, Rotherhithe</td>\n",
       "      <td>54324</td>\n",
       "      <td>CLASSIC</td>\n",
       "      <td>23m 31s</td>\n",
       "      <td>1411818</td>\n",
       "      <td>1411.818</td>\n",
       "    </tr>\n",
       "    <tr>\n",
       "      <th>4</th>\n",
       "      <td>125230176</td>\n",
       "      <td>2022-09-18 23:59</td>\n",
       "      <td>010624</td>\n",
       "      <td>Strata, Elephant &amp; Castle</td>\n",
       "      <td>2022-09-19 00:23</td>\n",
       "      <td>300252</td>\n",
       "      <td>Canada Water Station, Rotherhithe</td>\n",
       "      <td>22065</td>\n",
       "      <td>CLASSIC</td>\n",
       "      <td>23m 20s</td>\n",
       "      <td>1400619</td>\n",
       "      <td>1400.619</td>\n",
       "    </tr>\n",
       "  </tbody>\n",
       "</table>\n",
       "</div>"
      ],
      "text/plain": [
       "   rental_id        start_date start_station_id  \\\n",
       "0  125230172  2022-09-18 23:59           001059   \n",
       "1  125230173  2022-09-18 23:59           002660   \n",
       "2  125230174  2022-09-18 23:59           001183   \n",
       "3  125230175  2022-09-18 23:59           010624   \n",
       "4  125230176  2022-09-18 23:59           010624   \n",
       "\n",
       "              start_station_name          end_date end_station_id  \\\n",
       "0    Albert Embankment, Vauxhall  2022-09-19 02:11         200222   \n",
       "1             Frith Street, Soho  2022-09-19 00:11         001194   \n",
       "2  Bramham Gardens, Earl's Court  2022-09-19 00:14         300019   \n",
       "3      Strata, Elephant & Castle  2022-09-19 00:23         300252   \n",
       "4      Strata, Elephant & Castle  2022-09-19 00:23         300252   \n",
       "\n",
       "                     end_station_name  bike_id    model total_duration  \\\n",
       "0        Danvers Street, West Chelsea    54170  CLASSIC     2h 12m 14s   \n",
       "1  Westminster University, Marylebone    50087  CLASSIC        12m 16s   \n",
       "2                Felsham Road, Putney    54561  CLASSIC        15m 29s   \n",
       "3   Canada Water Station, Rotherhithe    54324  CLASSIC        23m 31s   \n",
       "4   Canada Water Station, Rotherhithe    22065  CLASSIC        23m 20s   \n",
       "\n",
       "   total_duration_ms  duration  \n",
       "0            7934133  7934.133  \n",
       "1             736233   736.233  \n",
       "2             929662   929.662  \n",
       "3            1411818  1411.818  \n",
       "4            1400619  1400.619  "
      ]
     },
     "execution_count": 60,
     "metadata": {},
     "output_type": "execute_result"
    }
   ],
   "source": [
    "df3 = df3.rename(columns=new_col_names_df3)\n",
    "df3.head()"
   ]
  },
  {
   "cell_type": "code",
   "execution_count": 63,
   "metadata": {},
   "outputs": [
    {
     "name": "stderr",
     "output_type": "stream",
     "text": [
      "/var/folders/xk/r3ls7bqd0b3fdrwsj9bcv3t40000gn/T/ipykernel_71444/1755227281.py:2: UserWarning: Parsing dates in %d/%m/%Y %H:%M format when dayfirst=False (the default) was specified. Pass `dayfirst=True` or specify a format to silence this warning.\n",
      "  df3['start_date'] = pd.to_datetime(df3['start_date'], errors='coerce')\n",
      "/var/folders/xk/r3ls7bqd0b3fdrwsj9bcv3t40000gn/T/ipykernel_71444/1755227281.py:3: UserWarning: Parsing dates in %d/%m/%Y %H:%M format when dayfirst=False (the default) was specified. Pass `dayfirst=True` or specify a format to silence this warning.\n",
      "  df3['end_date'] = pd.to_datetime(df3['end_date'], errors='coerce')\n"
     ]
    }
   ],
   "source": [
    "# Convert 'start_date' and 'end_date' to datetime\n",
    "df3['start_date'] = pd.to_datetime(df3['start_date'], errors='coerce')\n",
    "df3['end_date'] = pd.to_datetime(df3['end_date'], errors='coerce')"
   ]
  },
  {
   "cell_type": "code",
   "execution_count": 64,
   "metadata": {},
   "outputs": [
    {
     "name": "stdout",
     "output_type": "stream",
     "text": [
      "<class 'pandas.core.frame.DataFrame'>\n",
      "RangeIndex: 11059475 entries, 0 to 11059474\n",
      "Data columns (total 12 columns):\n",
      " #   Column              Dtype         \n",
      "---  ------              -----         \n",
      " 0   rental_id           int64         \n",
      " 1   start_date          datetime64[ns]\n",
      " 2   start_station_id    object        \n",
      " 3   start_station_name  object        \n",
      " 4   end_date            datetime64[ns]\n",
      " 5   end_station_id      object        \n",
      " 6   end_station_name    object        \n",
      " 7   bike_id             int64         \n",
      " 8   model               object        \n",
      " 9   total_duration      object        \n",
      " 10  total_duration_ms   int64         \n",
      " 11  duration            float64       \n",
      "dtypes: datetime64[ns](2), float64(1), int64(3), object(6)\n",
      "memory usage: 1012.5+ MB\n"
     ]
    }
   ],
   "source": [
    "df3.info()"
   ]
  },
  {
   "cell_type": "markdown",
   "metadata": {},
   "source": [
    "---"
   ]
  },
  {
   "cell_type": "markdown",
   "metadata": {},
   "source": [
    "### **Drop columns + store Data Frame with bike model for later use**"
   ]
  },
  {
   "cell_type": "code",
   "execution_count": 65,
   "metadata": {},
   "outputs": [],
   "source": [
    "df_with_model = df3.drop(columns=[\"total_duration_ms\", \"total_duration\"], axis=1)"
   ]
  },
  {
   "cell_type": "code",
   "execution_count": 66,
   "metadata": {},
   "outputs": [
    {
     "data": {
      "text/plain": [
       "model\n",
       "CLASSIC       0.932367\n",
       "PBSC_EBIKE    0.067633\n",
       "Name: proportion, dtype: float64"
      ]
     },
     "execution_count": 66,
     "metadata": {},
     "output_type": "execute_result"
    }
   ],
   "source": [
    "df_with_model.model.value_counts(normalize=True)"
   ]
  },
  {
   "cell_type": "code",
   "execution_count": 67,
   "metadata": {},
   "outputs": [],
   "source": [
    "# df3 excluding model feature\n",
    "df3 = df_with_model.drop(columns=[\"model\"], axis=1)"
   ]
  },
  {
   "cell_type": "markdown",
   "metadata": {},
   "source": [
    "---"
   ]
  },
  {
   "cell_type": "markdown",
   "metadata": {},
   "source": [
    "## **Drop ID columns as they are inconsistent in df3**"
   ]
  },
  {
   "cell_type": "code",
   "execution_count": 68,
   "metadata": {},
   "outputs": [],
   "source": [
    "# drop start_station_id\n",
    "# drop end_station_id\n",
    "# create new start_station_id based on start_station_name\n",
    "# create new end_station_id based on end_station_name\n",
    "\n",
    "df1 = df1.drop(columns=[\"start_station_id\", \"end_station_id\"], axis=1)\n",
    "df2 = df2.drop(columns=[\"start_station_id\"], axis=1) # df2 never had an end_station_id to begin with\n",
    "df3 = df3.drop(columns=[\"start_station_id\", \"end_station_id\"], axis=1)"
   ]
  },
  {
   "cell_type": "code",
   "execution_count": 69,
   "metadata": {},
   "outputs": [
    {
     "name": "stdout",
     "output_type": "stream",
     "text": [
      "True\n",
      "True\n"
     ]
    }
   ],
   "source": [
    "# Check columns are consistent\n",
    "print(sorted(df1.columns) == sorted(df2.columns))\n",
    "print(sorted(df1.columns) == sorted(df3.columns))"
   ]
  },
  {
   "cell_type": "markdown",
   "metadata": {},
   "source": [
    "---"
   ]
  },
  {
   "cell_type": "markdown",
   "metadata": {},
   "source": [
    "## **Concatenate Data Frames**"
   ]
  },
  {
   "cell_type": "code",
   "execution_count": 70,
   "metadata": {},
   "outputs": [
    {
     "data": {
      "text/html": [
       "<div>\n",
       "<style scoped>\n",
       "    .dataframe tbody tr th:only-of-type {\n",
       "        vertical-align: middle;\n",
       "    }\n",
       "\n",
       "    .dataframe tbody tr th {\n",
       "        vertical-align: top;\n",
       "    }\n",
       "\n",
       "    .dataframe thead th {\n",
       "        text-align: right;\n",
       "    }\n",
       "</style>\n",
       "<table border=\"1\" class=\"dataframe\">\n",
       "  <thead>\n",
       "    <tr style=\"text-align: right;\">\n",
       "      <th></th>\n",
       "      <th>rental_id</th>\n",
       "      <th>duration</th>\n",
       "      <th>bike_id</th>\n",
       "      <th>end_date</th>\n",
       "      <th>end_station_name</th>\n",
       "      <th>start_date</th>\n",
       "      <th>start_station_name</th>\n",
       "    </tr>\n",
       "  </thead>\n",
       "  <tbody>\n",
       "    <tr>\n",
       "      <th>0</th>\n",
       "      <td>104666386</td>\n",
       "      <td>5100.0</td>\n",
       "      <td>17552</td>\n",
       "      <td>2020-12-24 18:19:00</td>\n",
       "      <td>Finsbury Leisure Centre, St. Luke's</td>\n",
       "      <td>2020-12-24 16:54:00</td>\n",
       "      <td>Windsor Terrace, Hoxton</td>\n",
       "    </tr>\n",
       "    <tr>\n",
       "      <th>1</th>\n",
       "      <td>104708347</td>\n",
       "      <td>2400.0</td>\n",
       "      <td>12134</td>\n",
       "      <td>2020-12-27 14:37:00</td>\n",
       "      <td>Hop Exchange, The Borough</td>\n",
       "      <td>2020-12-27 13:57:00</td>\n",
       "      <td>Curlew Street, Shad Thames</td>\n",
       "    </tr>\n",
       "    <tr>\n",
       "      <th>2</th>\n",
       "      <td>104664061</td>\n",
       "      <td>300.0</td>\n",
       "      <td>18429</td>\n",
       "      <td>2020-12-24 15:23:00</td>\n",
       "      <td>Walnut Tree Walk, Vauxhall</td>\n",
       "      <td>2020-12-24 15:18:00</td>\n",
       "      <td>Baylis Road, Waterloo</td>\n",
       "    </tr>\n",
       "    <tr>\n",
       "      <th>3</th>\n",
       "      <td>104723992</td>\n",
       "      <td>1440.0</td>\n",
       "      <td>17175</td>\n",
       "      <td>2020-12-28 13:30:00</td>\n",
       "      <td>Blenheim Crescent, Ladbroke Grove</td>\n",
       "      <td>2020-12-28 13:06:00</td>\n",
       "      <td>Albert Gate, Hyde Park</td>\n",
       "    </tr>\n",
       "    <tr>\n",
       "      <th>4</th>\n",
       "      <td>104721666</td>\n",
       "      <td>840.0</td>\n",
       "      <td>15313</td>\n",
       "      <td>2020-12-28 11:23:00</td>\n",
       "      <td>Black Lion Gate, Kensington Gardens</td>\n",
       "      <td>2020-12-28 11:09:00</td>\n",
       "      <td>Blenheim Crescent, Ladbroke Grove</td>\n",
       "    </tr>\n",
       "  </tbody>\n",
       "</table>\n",
       "</div>"
      ],
      "text/plain": [
       "   rental_id  duration  bike_id            end_date  \\\n",
       "0  104666386    5100.0    17552 2020-12-24 18:19:00   \n",
       "1  104708347    2400.0    12134 2020-12-27 14:37:00   \n",
       "2  104664061     300.0    18429 2020-12-24 15:23:00   \n",
       "3  104723992    1440.0    17175 2020-12-28 13:30:00   \n",
       "4  104721666     840.0    15313 2020-12-28 11:23:00   \n",
       "\n",
       "                      end_station_name          start_date  \\\n",
       "0  Finsbury Leisure Centre, St. Luke's 2020-12-24 16:54:00   \n",
       "1            Hop Exchange, The Borough 2020-12-27 13:57:00   \n",
       "2           Walnut Tree Walk, Vauxhall 2020-12-24 15:18:00   \n",
       "3    Blenheim Crescent, Ladbroke Grove 2020-12-28 13:06:00   \n",
       "4  Black Lion Gate, Kensington Gardens 2020-12-28 11:09:00   \n",
       "\n",
       "                  start_station_name  \n",
       "0            Windsor Terrace, Hoxton  \n",
       "1         Curlew Street, Shad Thames  \n",
       "2              Baylis Road, Waterloo  \n",
       "3             Albert Gate, Hyde Park  \n",
       "4  Blenheim Crescent, Ladbroke Grove  "
      ]
     },
     "execution_count": 70,
     "metadata": {},
     "output_type": "execute_result"
    }
   ],
   "source": [
    "# Match df2 and df3 to the column order of df1\n",
    "df2 = df2[df1.columns]\n",
    "df3 =  df3[df1.columns]\n",
    "\n",
    "# Concatenate data frames\n",
    "df_combined = pd.concat([df1,df2,df3], ignore_index=True)\n",
    "df_combined.head()"
   ]
  },
  {
   "cell_type": "markdown",
   "metadata": {},
   "source": [
    "---"
   ]
  },
  {
   "cell_type": "markdown",
   "metadata": {},
   "source": [
    "## **Create new IDs**"
   ]
  },
  {
   "cell_type": "code",
   "execution_count": 71,
   "metadata": {},
   "outputs": [
    {
     "name": "stdout",
     "output_type": "stream",
     "text": [
      "   rental_id  duration  bike_id            end_date  \\\n",
      "0  104666386    5100.0    17552 2020-12-24 18:19:00   \n",
      "1  104708347    2400.0    12134 2020-12-27 14:37:00   \n",
      "2  104664061     300.0    18429 2020-12-24 15:23:00   \n",
      "3  104723992    1440.0    17175 2020-12-28 13:30:00   \n",
      "4  104721666     840.0    15313 2020-12-28 11:23:00   \n",
      "\n",
      "                      end_station_name          start_date  \\\n",
      "0  Finsbury Leisure Centre, St. Luke's 2020-12-24 16:54:00   \n",
      "1            Hop Exchange, The Borough 2020-12-27 13:57:00   \n",
      "2           Walnut Tree Walk, Vauxhall 2020-12-24 15:18:00   \n",
      "3    Blenheim Crescent, Ladbroke Grove 2020-12-28 13:06:00   \n",
      "4  Black Lion Gate, Kensington Gardens 2020-12-28 11:09:00   \n",
      "\n",
      "                  start_station_name  start_station_id  end_station_id  \n",
      "0            Windsor Terrace, Hoxton                 1             397  \n",
      "1         Curlew Street, Shad Thames                 2             306  \n",
      "2              Baylis Road, Waterloo                 3             372  \n",
      "3             Albert Gate, Hyde Park                 4               5  \n",
      "4  Blenheim Crescent, Ladbroke Grove                 5             435  \n",
      "start_station_id    0\n",
      "end_station_id      0\n",
      "dtype: int64\n"
     ]
    }
   ],
   "source": [
    "# Find unique list of all station names\n",
    "all_station_names = pd.concat([df_combined['start_station_name'], df_combined['end_station_name']]).unique()\n",
    "\n",
    "# Map the stations\n",
    "station_mapping = {name: idx for idx, name in enumerate(all_station_names, start=1)}\n",
    "\n",
    "# Map the station names to their corresponding IDs\n",
    "df_combined['start_station_id'] = df_combined['start_station_name'].map(station_mapping)\n",
    "df_combined['end_station_id'] = df_combined['end_station_name'].map(station_mapping)\n",
    "\n",
    "print(df_combined.head())\n",
    "\n",
    "# Check for missing values in new IDs\n",
    "print(df_combined[['start_station_id', 'end_station_id']].isnull().sum())"
   ]
  },
  {
   "cell_type": "code",
   "execution_count": 72,
   "metadata": {},
   "outputs": [
    {
     "data": {
      "text/html": [
       "<div>\n",
       "<style scoped>\n",
       "    .dataframe tbody tr th:only-of-type {\n",
       "        vertical-align: middle;\n",
       "    }\n",
       "\n",
       "    .dataframe tbody tr th {\n",
       "        vertical-align: top;\n",
       "    }\n",
       "\n",
       "    .dataframe thead th {\n",
       "        text-align: right;\n",
       "    }\n",
       "</style>\n",
       "<table border=\"1\" class=\"dataframe\">\n",
       "  <thead>\n",
       "    <tr style=\"text-align: right;\">\n",
       "      <th></th>\n",
       "      <th>rental_id</th>\n",
       "      <th>duration</th>\n",
       "      <th>bike_id</th>\n",
       "      <th>end_date</th>\n",
       "      <th>end_station_name</th>\n",
       "      <th>start_date</th>\n",
       "      <th>start_station_name</th>\n",
       "      <th>start_station_id</th>\n",
       "      <th>end_station_id</th>\n",
       "    </tr>\n",
       "  </thead>\n",
       "  <tbody>\n",
       "    <tr>\n",
       "      <th>0</th>\n",
       "      <td>104666386</td>\n",
       "      <td>5100.0</td>\n",
       "      <td>17552</td>\n",
       "      <td>2020-12-24 18:19:00</td>\n",
       "      <td>Finsbury Leisure Centre, St. Luke's</td>\n",
       "      <td>2020-12-24 16:54:00</td>\n",
       "      <td>Windsor Terrace, Hoxton</td>\n",
       "      <td>1</td>\n",
       "      <td>397</td>\n",
       "    </tr>\n",
       "    <tr>\n",
       "      <th>1</th>\n",
       "      <td>104708347</td>\n",
       "      <td>2400.0</td>\n",
       "      <td>12134</td>\n",
       "      <td>2020-12-27 14:37:00</td>\n",
       "      <td>Hop Exchange, The Borough</td>\n",
       "      <td>2020-12-27 13:57:00</td>\n",
       "      <td>Curlew Street, Shad Thames</td>\n",
       "      <td>2</td>\n",
       "      <td>306</td>\n",
       "    </tr>\n",
       "    <tr>\n",
       "      <th>2</th>\n",
       "      <td>104664061</td>\n",
       "      <td>300.0</td>\n",
       "      <td>18429</td>\n",
       "      <td>2020-12-24 15:23:00</td>\n",
       "      <td>Walnut Tree Walk, Vauxhall</td>\n",
       "      <td>2020-12-24 15:18:00</td>\n",
       "      <td>Baylis Road, Waterloo</td>\n",
       "      <td>3</td>\n",
       "      <td>372</td>\n",
       "    </tr>\n",
       "    <tr>\n",
       "      <th>3</th>\n",
       "      <td>104723992</td>\n",
       "      <td>1440.0</td>\n",
       "      <td>17175</td>\n",
       "      <td>2020-12-28 13:30:00</td>\n",
       "      <td>Blenheim Crescent, Ladbroke Grove</td>\n",
       "      <td>2020-12-28 13:06:00</td>\n",
       "      <td>Albert Gate, Hyde Park</td>\n",
       "      <td>4</td>\n",
       "      <td>5</td>\n",
       "    </tr>\n",
       "    <tr>\n",
       "      <th>4</th>\n",
       "      <td>104721666</td>\n",
       "      <td>840.0</td>\n",
       "      <td>15313</td>\n",
       "      <td>2020-12-28 11:23:00</td>\n",
       "      <td>Black Lion Gate, Kensington Gardens</td>\n",
       "      <td>2020-12-28 11:09:00</td>\n",
       "      <td>Blenheim Crescent, Ladbroke Grove</td>\n",
       "      <td>5</td>\n",
       "      <td>435</td>\n",
       "    </tr>\n",
       "  </tbody>\n",
       "</table>\n",
       "</div>"
      ],
      "text/plain": [
       "   rental_id  duration  bike_id            end_date  \\\n",
       "0  104666386    5100.0    17552 2020-12-24 18:19:00   \n",
       "1  104708347    2400.0    12134 2020-12-27 14:37:00   \n",
       "2  104664061     300.0    18429 2020-12-24 15:23:00   \n",
       "3  104723992    1440.0    17175 2020-12-28 13:30:00   \n",
       "4  104721666     840.0    15313 2020-12-28 11:23:00   \n",
       "\n",
       "                      end_station_name          start_date  \\\n",
       "0  Finsbury Leisure Centre, St. Luke's 2020-12-24 16:54:00   \n",
       "1            Hop Exchange, The Borough 2020-12-27 13:57:00   \n",
       "2           Walnut Tree Walk, Vauxhall 2020-12-24 15:18:00   \n",
       "3    Blenheim Crescent, Ladbroke Grove 2020-12-28 13:06:00   \n",
       "4  Black Lion Gate, Kensington Gardens 2020-12-28 11:09:00   \n",
       "\n",
       "                  start_station_name  start_station_id  end_station_id  \n",
       "0            Windsor Terrace, Hoxton                 1             397  \n",
       "1         Curlew Street, Shad Thames                 2             306  \n",
       "2              Baylis Road, Waterloo                 3             372  \n",
       "3             Albert Gate, Hyde Park                 4               5  \n",
       "4  Blenheim Crescent, Ladbroke Grove                 5             435  "
      ]
     },
     "execution_count": 72,
     "metadata": {},
     "output_type": "execute_result"
    }
   ],
   "source": [
    "df_combined.head()"
   ]
  },
  {
   "cell_type": "markdown",
   "metadata": {},
   "source": [
    "---"
   ]
  },
  {
   "cell_type": "markdown",
   "metadata": {},
   "source": [
    "## **EDA**"
   ]
  },
  {
   "cell_type": "code",
   "execution_count": 74,
   "metadata": {},
   "outputs": [
    {
     "data": {
      "text/html": [
       "<div>\n",
       "<style scoped>\n",
       "    .dataframe tbody tr th:only-of-type {\n",
       "        vertical-align: middle;\n",
       "    }\n",
       "\n",
       "    .dataframe tbody tr th {\n",
       "        vertical-align: top;\n",
       "    }\n",
       "\n",
       "    .dataframe thead th {\n",
       "        text-align: right;\n",
       "    }\n",
       "</style>\n",
       "<table border=\"1\" class=\"dataframe\">\n",
       "  <thead>\n",
       "    <tr style=\"text-align: right;\">\n",
       "      <th></th>\n",
       "      <th>rental_id</th>\n",
       "      <th>duration</th>\n",
       "      <th>bike_id</th>\n",
       "      <th>end_date</th>\n",
       "      <th>end_station_name</th>\n",
       "      <th>start_date</th>\n",
       "      <th>start_station_name</th>\n",
       "      <th>start_station_id</th>\n",
       "      <th>end_station_id</th>\n",
       "    </tr>\n",
       "  </thead>\n",
       "  <tbody>\n",
       "    <tr>\n",
       "      <th>0</th>\n",
       "      <td>104666386</td>\n",
       "      <td>5100.0</td>\n",
       "      <td>17552</td>\n",
       "      <td>2020-12-24 18:19:00</td>\n",
       "      <td>Finsbury Leisure Centre, St. Luke's</td>\n",
       "      <td>2020-12-24 16:54:00</td>\n",
       "      <td>Windsor Terrace, Hoxton</td>\n",
       "      <td>1</td>\n",
       "      <td>397</td>\n",
       "    </tr>\n",
       "    <tr>\n",
       "      <th>1</th>\n",
       "      <td>104708347</td>\n",
       "      <td>2400.0</td>\n",
       "      <td>12134</td>\n",
       "      <td>2020-12-27 14:37:00</td>\n",
       "      <td>Hop Exchange, The Borough</td>\n",
       "      <td>2020-12-27 13:57:00</td>\n",
       "      <td>Curlew Street, Shad Thames</td>\n",
       "      <td>2</td>\n",
       "      <td>306</td>\n",
       "    </tr>\n",
       "    <tr>\n",
       "      <th>2</th>\n",
       "      <td>104664061</td>\n",
       "      <td>300.0</td>\n",
       "      <td>18429</td>\n",
       "      <td>2020-12-24 15:23:00</td>\n",
       "      <td>Walnut Tree Walk, Vauxhall</td>\n",
       "      <td>2020-12-24 15:18:00</td>\n",
       "      <td>Baylis Road, Waterloo</td>\n",
       "      <td>3</td>\n",
       "      <td>372</td>\n",
       "    </tr>\n",
       "    <tr>\n",
       "      <th>3</th>\n",
       "      <td>104723992</td>\n",
       "      <td>1440.0</td>\n",
       "      <td>17175</td>\n",
       "      <td>2020-12-28 13:30:00</td>\n",
       "      <td>Blenheim Crescent, Ladbroke Grove</td>\n",
       "      <td>2020-12-28 13:06:00</td>\n",
       "      <td>Albert Gate, Hyde Park</td>\n",
       "      <td>4</td>\n",
       "      <td>5</td>\n",
       "    </tr>\n",
       "    <tr>\n",
       "      <th>4</th>\n",
       "      <td>104721666</td>\n",
       "      <td>840.0</td>\n",
       "      <td>15313</td>\n",
       "      <td>2020-12-28 11:23:00</td>\n",
       "      <td>Black Lion Gate, Kensington Gardens</td>\n",
       "      <td>2020-12-28 11:09:00</td>\n",
       "      <td>Blenheim Crescent, Ladbroke Grove</td>\n",
       "      <td>5</td>\n",
       "      <td>435</td>\n",
       "    </tr>\n",
       "  </tbody>\n",
       "</table>\n",
       "</div>"
      ],
      "text/plain": [
       "   rental_id  duration  bike_id            end_date  \\\n",
       "0  104666386    5100.0    17552 2020-12-24 18:19:00   \n",
       "1  104708347    2400.0    12134 2020-12-27 14:37:00   \n",
       "2  104664061     300.0    18429 2020-12-24 15:23:00   \n",
       "3  104723992    1440.0    17175 2020-12-28 13:30:00   \n",
       "4  104721666     840.0    15313 2020-12-28 11:23:00   \n",
       "\n",
       "                      end_station_name          start_date  \\\n",
       "0  Finsbury Leisure Centre, St. Luke's 2020-12-24 16:54:00   \n",
       "1            Hop Exchange, The Borough 2020-12-27 13:57:00   \n",
       "2           Walnut Tree Walk, Vauxhall 2020-12-24 15:18:00   \n",
       "3    Blenheim Crescent, Ladbroke Grove 2020-12-28 13:06:00   \n",
       "4  Black Lion Gate, Kensington Gardens 2020-12-28 11:09:00   \n",
       "\n",
       "                  start_station_name  start_station_id  end_station_id  \n",
       "0            Windsor Terrace, Hoxton                 1             397  \n",
       "1         Curlew Street, Shad Thames                 2             306  \n",
       "2              Baylis Road, Waterloo                 3             372  \n",
       "3             Albert Gate, Hyde Park                 4               5  \n",
       "4  Blenheim Crescent, Ladbroke Grove                 5             435  "
      ]
     },
     "execution_count": 74,
     "metadata": {},
     "output_type": "execute_result"
    }
   ],
   "source": [
    "df_combined.head()"
   ]
  },
  {
   "cell_type": "code",
   "execution_count": 73,
   "metadata": {},
   "outputs": [
    {
     "name": "stdout",
     "output_type": "stream",
     "text": [
      "<class 'pandas.core.frame.DataFrame'>\n",
      "RangeIndex: 30889370 entries, 0 to 30889369\n",
      "Data columns (total 9 columns):\n",
      " #   Column              Dtype         \n",
      "---  ------              -----         \n",
      " 0   rental_id           int64         \n",
      " 1   duration            float64       \n",
      " 2   bike_id             int64         \n",
      " 3   end_date            datetime64[ns]\n",
      " 4   end_station_name    object        \n",
      " 5   start_date          datetime64[ns]\n",
      " 6   start_station_name  object        \n",
      " 7   start_station_id    int64         \n",
      " 8   end_station_id      int64         \n",
      "dtypes: datetime64[ns](2), float64(1), int64(4), object(2)\n",
      "memory usage: 2.1+ GB\n"
     ]
    }
   ],
   "source": [
    "df_combined.info()"
   ]
  },
  {
   "cell_type": "code",
   "execution_count": 75,
   "metadata": {},
   "outputs": [
    {
     "data": {
      "text/plain": [
       "rental_id             0\n",
       "duration              0\n",
       "bike_id               0\n",
       "end_date              0\n",
       "end_station_name      0\n",
       "start_date            0\n",
       "start_station_name    0\n",
       "start_station_id      0\n",
       "end_station_id        0\n",
       "dtype: int64"
      ]
     },
     "execution_count": 75,
     "metadata": {},
     "output_type": "execute_result"
    }
   ],
   "source": [
    "# check for missing values\n",
    "df_combined.isnull().sum()"
   ]
  },
  {
   "cell_type": "code",
   "execution_count": 76,
   "metadata": {},
   "outputs": [],
   "source": [
    "# drop duplicates\n",
    "df_combined.drop_duplicates(inplace=True)"
   ]
  },
  {
   "cell_type": "code",
   "execution_count": 78,
   "metadata": {},
   "outputs": [
    {
     "data": {
      "text/plain": [
       "<Axes: title={'center': 'Daily Rental Trends'}, xlabel='start_date'>"
      ]
     },
     "execution_count": 78,
     "metadata": {},
     "output_type": "execute_result"
    },
    {
     "data": {
      "image/png": "[encoded data removed]",
      "text/plain": [
       "<Figure size 1000x500 with 1 Axes>"
      ]
     },
     "metadata": {},
     "output_type": "display_data"
    }
   ],
   "source": [
    "df_combined['start_date'].dt.date.value_counts().sort_index().plot(\n",
    "    kind='line', figsize=(10,5), title=\"Daily Rental Trends\")"
   ]
  },
  {
   "cell_type": "code",
   "execution_count": null,
   "metadata": {},
   "outputs": [],
   "source": []
  },
  {
   "cell_type": "code",
   "execution_count": null,
   "metadata": {},
   "outputs": [],
   "source": []
  },
  {
   "cell_type": "code",
   "execution_count": null,
   "metadata": {},
   "outputs": [],
   "source": []
  },
  {
   "cell_type": "code",
   "execution_count": null,
   "metadata": {},
   "outputs": [],
   "source": []
  },
  {
   "cell_type": "code",
   "execution_count": null,
   "metadata": {},
   "outputs": [],
   "source": []
  },
  {
   "cell_type": "code",
   "execution_count": null,
   "metadata": {},
   "outputs": [],
   "source": []
  },
  {
   "cell_type": "code",
   "execution_count": null,
   "metadata": {},
   "outputs": [],
   "source": []
  },
  {
   "cell_type": "code",
   "execution_count": null,
   "metadata": {},
   "outputs": [],
   "source": []
  },
  {
   "cell_type": "code",
   "execution_count": null,
   "metadata": {},
   "outputs": [],
   "source": []
  },
  {
   "cell_type": "code",
   "execution_count": null,
   "metadata": {},
   "outputs": [],
   "source": []
  }
 ],
 "metadata": {
  "kernelspec": {
   "display_name": "cycEnv",
   "language": "python",
   "name": "python3"
  },
  "language_info": {
   "codemirror_mode": {
    "name": "ipython",
    "version": 3
   },
   "file_extension": ".py",
   "mimetype": "text/x-python",
   "name": "python",
   "nbconvert_exporter": "python",
   "pygments_lexer": "ipython3",
   "version": "3.12.9"
  }
 },
 "nbformat": 4,
 "nbformat_minor": 2
}
